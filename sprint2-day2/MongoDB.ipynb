{
 "cells": [
  {
   "cell_type": "code",
   "execution_count": 1,
   "id": "34b5e20e",
   "metadata": {},
   "outputs": [
    {
     "name": "stdout",
     "output_type": "stream",
     "text": [
      "Collecting pymongo\n",
      "  Downloading pymongo-4.1.1-cp39-cp39-win_amd64.whl (365 kB)\n",
      "     ------------------------------------- 365.3/365.3 kB 11.5 MB/s eta 0:00:00\n",
      "Installing collected packages: pymongo\n",
      "Successfully installed pymongo-4.1.1\n"
     ]
    },
    {
     "name": "stderr",
     "output_type": "stream",
     "text": [
      "WARNING: There was an error checking the latest version of pip.\n"
     ]
    }
   ],
   "source": [
    "!pip install pymongo"
   ]
  },
  {
   "cell_type": "code",
   "execution_count": 15,
   "id": "0e666f33",
   "metadata": {},
   "outputs": [],
   "source": [
    "import pandas as pd\n",
    "import pymongo\n",
    "myclient = pymongo.MongoClient(\"mongodb://localhost:27017/\")\n",
    "mydb = myclient[\"mydatabase\"]"
   ]
  },
  {
   "cell_type": "code",
   "execution_count": 6,
   "id": "4d59508f",
   "metadata": {},
   "outputs": [],
   "source": [
    "mycol = mydb[\"customers\"]"
   ]
  },
  {
   "cell_type": "markdown",
   "id": "9d9175cb",
   "metadata": {},
   "source": [
    "### Checking for Collections"
   ]
  },
  {
   "cell_type": "code",
   "execution_count": 7,
   "id": "4cee7ef1",
   "metadata": {},
   "outputs": [
    {
     "name": "stdout",
     "output_type": "stream",
     "text": [
      "['customers']\n",
      "The collection exists.\n"
     ]
    }
   ],
   "source": [
    "collist = mydb.list_collection_names()\n",
    "print(collist)\n",
    "if \"customers\" in collist:\n",
    "    print(\"The collection exists.\")"
   ]
  },
  {
   "cell_type": "markdown",
   "id": "11a6127d",
   "metadata": {},
   "source": [
    "### Insert Data"
   ]
  },
  {
   "cell_type": "code",
   "execution_count": 8,
   "id": "e9b48d1c",
   "metadata": {},
   "outputs": [
    {
     "name": "stdout",
     "output_type": "stream",
     "text": [
      "629f213a9c07f55127337c8b\n"
     ]
    }
   ],
   "source": [
    "mydict = { \"name\": \"John\", \"address\": \"Highway 37\" }\n",
    "x = mycol.insert_one(mydict)\n",
    "print(x.inserted_id) "
   ]
  },
  {
   "cell_type": "markdown",
   "id": "5bbbb65c",
   "metadata": {},
   "source": [
    "### Insert Multiple Documents"
   ]
  },
  {
   "cell_type": "code",
   "execution_count": 9,
   "id": "d2659cd7",
   "metadata": {},
   "outputs": [
    {
     "name": "stdout",
     "output_type": "stream",
     "text": [
      "[ObjectId('629f213c9c07f55127337c8c'), ObjectId('629f213c9c07f55127337c8d'), ObjectId('629f213c9c07f55127337c8e'), ObjectId('629f213c9c07f55127337c8f'), ObjectId('629f213c9c07f55127337c90'), ObjectId('629f213c9c07f55127337c91'), ObjectId('629f213c9c07f55127337c92'), ObjectId('629f213c9c07f55127337c93'), ObjectId('629f213c9c07f55127337c94'), ObjectId('629f213c9c07f55127337c95')]\n"
     ]
    }
   ],
   "source": [
    "mylist = [\n",
    "  { \"name\": \"Amy\", \"address\": \"Apple st 652\"},\n",
    "  { \"name\": \"Hannah\", \"address\": \"Mountain 21\"},\n",
    "  { \"name\": \"Michael\", \"address\": \"Valley 345\"},\n",
    "  { \"name\": \"Sandy\", \"address\": \"Ocean blvd 2\"},\n",
    "  { \"name\": \"Betty\", \"address\": \"Green Grass 1\"},\n",
    "  { \"name\": \"Richard\", \"address\": \"Sky st 331\"},\n",
    "  { \"name\": \"Susan\", \"address\": \"One way 98\"},\n",
    "  { \"name\": \"Vicky\", \"address\": \"Yellow Garden 2\"},\n",
    "  { \"name\": \"Ben\", \"address\": \"Park Lane 38\"},\n",
    "  { \"name\": \"William\", \"address\": \"Central st 954\"},\n",
    "]\n",
    "\n",
    "x = mycol.insert_many(mylist)\n",
    "print(x.inserted_ids) "
   ]
  },
  {
   "cell_type": "markdown",
   "id": "b1df7b9b",
   "metadata": {},
   "source": [
    "### Find First Data"
   ]
  },
  {
   "cell_type": "code",
   "execution_count": 13,
   "id": "f4730ee2",
   "metadata": {},
   "outputs": [
    {
     "name": "stdout",
     "output_type": "stream",
     "text": [
      "{'_id': ObjectId('629df4bd221f6ef336ffb9e1'), 'name': 'John', 'address': 'Highway 37'}\n"
     ]
    }
   ],
   "source": [
    "one_data = mycol.find_one()\n",
    "print(one_data) "
   ]
  },
  {
   "cell_type": "code",
   "execution_count": 17,
   "id": "afed42a2",
   "metadata": {},
   "outputs": [
    {
     "name": "stdout",
     "output_type": "stream",
     "text": [
      "         0\n",
      "0      _id\n",
      "1     name\n",
      "2  address\n"
     ]
    }
   ],
   "source": [
    "df = pd.DataFrame(list(one_data))\n",
    "print(df)"
   ]
  },
  {
   "cell_type": "markdown",
   "id": "c9d9a1e4",
   "metadata": {},
   "source": [
    "### Find All"
   ]
  },
  {
   "cell_type": "code",
   "execution_count": 11,
   "id": "4c33327f",
   "metadata": {},
   "outputs": [
    {
     "name": "stdout",
     "output_type": "stream",
     "text": [
      "{'_id': ObjectId('629df4bd221f6ef336ffb9e1'), 'name': 'John', 'address': 'Highway 37'}\n",
      "{'_id': ObjectId('629df4ef221f6ef336ffb9e2'), 'name': 'Amy', 'address': 'Apple st 652'}\n",
      "{'_id': ObjectId('629df4ef221f6ef336ffb9e3'), 'name': 'Hannah', 'address': 'Mountain 21'}\n",
      "{'_id': ObjectId('629df4ef221f6ef336ffb9e4'), 'name': 'Michael', 'address': 'Canyon 123'}\n",
      "{'_id': ObjectId('629df4ef221f6ef336ffb9e5'), 'name': 'Sandy', 'address': 'Ocean blvd 2'}\n",
      "{'_id': ObjectId('629df4ef221f6ef336ffb9e6'), 'name': 'Betty', 'address': 'Green Grass 1'}\n",
      "{'_id': ObjectId('629df4ef221f6ef336ffb9e7'), 'name': 'Minnie', 'address': 'Sky st 331'}\n",
      "{'_id': ObjectId('629df4ef221f6ef336ffb9e8'), 'name': 'Susan', 'address': 'One way 98'}\n",
      "{'_id': ObjectId('629df4ef221f6ef336ffb9e9'), 'name': 'Vicky', 'address': 'Yellow Garden 2'}\n",
      "{'_id': ObjectId('629df4ef221f6ef336ffb9ea'), 'name': 'Ben', 'address': 'Park Lane 38'}\n",
      "{'_id': ObjectId('629df4ef221f6ef336ffb9eb'), 'name': 'William', 'address': 'Central st 954'}\n",
      "{'_id': ObjectId('629f13629c07f55127337c89'), 'name': 'John', 'address': 'Highway 37'}\n",
      "{'_id': ObjectId('629f213a9c07f55127337c8b'), 'name': 'John', 'address': 'Highway 37'}\n",
      "{'_id': ObjectId('629f213c9c07f55127337c8c'), 'name': 'Amy', 'address': 'Apple st 652'}\n",
      "{'_id': ObjectId('629f213c9c07f55127337c8d'), 'name': 'Hannah', 'address': 'Mountain 21'}\n",
      "{'_id': ObjectId('629f213c9c07f55127337c8e'), 'name': 'Michael', 'address': 'Valley 345'}\n",
      "{'_id': ObjectId('629f213c9c07f55127337c8f'), 'name': 'Sandy', 'address': 'Ocean blvd 2'}\n",
      "{'_id': ObjectId('629f213c9c07f55127337c90'), 'name': 'Betty', 'address': 'Green Grass 1'}\n",
      "{'_id': ObjectId('629f213c9c07f55127337c91'), 'name': 'Richard', 'address': 'Sky st 331'}\n",
      "{'_id': ObjectId('629f213c9c07f55127337c92'), 'name': 'Susan', 'address': 'One way 98'}\n",
      "{'_id': ObjectId('629f213c9c07f55127337c93'), 'name': 'Vicky', 'address': 'Yellow Garden 2'}\n",
      "{'_id': ObjectId('629f213c9c07f55127337c94'), 'name': 'Ben', 'address': 'Park Lane 38'}\n",
      "{'_id': ObjectId('629f213c9c07f55127337c95'), 'name': 'William', 'address': 'Central st 954'}\n"
     ]
    }
   ],
   "source": [
    "for x in mycol.find():\n",
    "    print(x) "
   ]
  },
  {
   "cell_type": "code",
   "execution_count": 34,
   "id": "78350931",
   "metadata": {},
   "outputs": [
    {
     "data": {
      "text/html": [
       "<div>\n",
       "<style scoped>\n",
       "    .dataframe tbody tr th:only-of-type {\n",
       "        vertical-align: middle;\n",
       "    }\n",
       "\n",
       "    .dataframe tbody tr th {\n",
       "        vertical-align: top;\n",
       "    }\n",
       "\n",
       "    .dataframe thead th {\n",
       "        text-align: right;\n",
       "    }\n",
       "</style>\n",
       "<table border=\"1\" class=\"dataframe\">\n",
       "  <thead>\n",
       "    <tr style=\"text-align: right;\">\n",
       "      <th></th>\n",
       "      <th>_id</th>\n",
       "      <th>name</th>\n",
       "      <th>address</th>\n",
       "    </tr>\n",
       "  </thead>\n",
       "  <tbody>\n",
       "    <tr>\n",
       "      <th>0</th>\n",
       "      <td>629df4bd221f6ef336ffb9e1</td>\n",
       "      <td>John</td>\n",
       "      <td>Highway 37</td>\n",
       "    </tr>\n",
       "    <tr>\n",
       "      <th>1</th>\n",
       "      <td>629df4ef221f6ef336ffb9e2</td>\n",
       "      <td>Amy</td>\n",
       "      <td>Apple st 652</td>\n",
       "    </tr>\n",
       "    <tr>\n",
       "      <th>2</th>\n",
       "      <td>629df4ef221f6ef336ffb9e3</td>\n",
       "      <td>Hannah</td>\n",
       "      <td>Mountain 21</td>\n",
       "    </tr>\n",
       "    <tr>\n",
       "      <th>3</th>\n",
       "      <td>629df4ef221f6ef336ffb9e4</td>\n",
       "      <td>Michael</td>\n",
       "      <td>Canyon 123</td>\n",
       "    </tr>\n",
       "    <tr>\n",
       "      <th>4</th>\n",
       "      <td>629df4ef221f6ef336ffb9e5</td>\n",
       "      <td>Sandy</td>\n",
       "      <td>Ocean blvd 2</td>\n",
       "    </tr>\n",
       "  </tbody>\n",
       "</table>\n",
       "</div>"
      ],
      "text/plain": [
       "                        _id     name       address\n",
       "0  629df4bd221f6ef336ffb9e1     John    Highway 37\n",
       "1  629df4ef221f6ef336ffb9e2      Amy  Apple st 652\n",
       "2  629df4ef221f6ef336ffb9e3   Hannah   Mountain 21\n",
       "3  629df4ef221f6ef336ffb9e4  Michael    Canyon 123\n",
       "4  629df4ef221f6ef336ffb9e5    Sandy  Ocean blvd 2"
      ]
     },
     "metadata": {},
     "output_type": "display_data"
    }
   ],
   "source": [
    "df = pd.DataFrame(list( mycol.find())).reset_index(drop=True)\n",
    "display(df.head())"
   ]
  },
  {
   "cell_type": "markdown",
   "id": "166b1e80",
   "metadata": {},
   "source": [
    "### Filter the Result "
   ]
  },
  {
   "cell_type": "code",
   "execution_count": 35,
   "id": "34572328",
   "metadata": {},
   "outputs": [
    {
     "name": "stdout",
     "output_type": "stream",
     "text": [
      "{'_id': ObjectId('629df4ef221f6ef336ffb9ea'), 'name': 'Ben', 'address': 'Park Lane 38'}\n",
      "{'_id': ObjectId('629f213c9c07f55127337c94'), 'name': 'Ben', 'address': 'Park Lane 38'}\n"
     ]
    }
   ],
   "source": [
    "myquery = {\"address\": \"Park Lane 38\"}\n",
    "mydoc = mycol.find(myquery)\n",
    "\n",
    "for x in mydoc:\n",
    "    print(x) "
   ]
  },
  {
   "cell_type": "code",
   "execution_count": 32,
   "id": "3b1d9b22",
   "metadata": {},
   "outputs": [
    {
     "data": {
      "text/html": [
       "<div>\n",
       "<style scoped>\n",
       "    .dataframe tbody tr th:only-of-type {\n",
       "        vertical-align: middle;\n",
       "    }\n",
       "\n",
       "    .dataframe tbody tr th {\n",
       "        vertical-align: top;\n",
       "    }\n",
       "\n",
       "    .dataframe thead th {\n",
       "        text-align: right;\n",
       "    }\n",
       "</style>\n",
       "<table border=\"1\" class=\"dataframe\">\n",
       "  <thead>\n",
       "    <tr style=\"text-align: right;\">\n",
       "      <th></th>\n",
       "      <th>_id</th>\n",
       "      <th>name</th>\n",
       "      <th>address</th>\n",
       "    </tr>\n",
       "  </thead>\n",
       "  <tbody>\n",
       "    <tr>\n",
       "      <th>0</th>\n",
       "      <td>629df4ef221f6ef336ffb9ea</td>\n",
       "      <td>Ben</td>\n",
       "      <td>Park Lane 38</td>\n",
       "    </tr>\n",
       "    <tr>\n",
       "      <th>1</th>\n",
       "      <td>629f213c9c07f55127337c94</td>\n",
       "      <td>Ben</td>\n",
       "      <td>Park Lane 38</td>\n",
       "    </tr>\n",
       "  </tbody>\n",
       "</table>\n",
       "</div>"
      ],
      "text/plain": [
       "                        _id name       address\n",
       "0  629df4ef221f6ef336ffb9ea  Ben  Park Lane 38\n",
       "1  629f213c9c07f55127337c94  Ben  Park Lane 38"
      ]
     },
     "metadata": {},
     "output_type": "display_data"
    }
   ],
   "source": [
    "df = pd.DataFrame(list(mycol.find(myquery))).reset_index(drop=True)\n",
    "display(df)"
   ]
  },
  {
   "cell_type": "markdown",
   "id": "0c31a448",
   "metadata": {},
   "source": [
    "### Sort the Data"
   ]
  },
  {
   "cell_type": "code",
   "execution_count": 12,
   "id": "52d62271",
   "metadata": {},
   "outputs": [
    {
     "name": "stdout",
     "output_type": "stream",
     "text": [
      "{'_id': ObjectId('629df4ef221f6ef336ffb9e2'), 'name': 'Amy', 'address': 'Apple st 652'}\n",
      "{'_id': ObjectId('629df4ef221f6ef336ffb9ea'), 'name': 'Ben', 'address': 'Park Lane 38'}\n",
      "{'_id': ObjectId('629df4ef221f6ef336ffb9e6'), 'name': 'Betty', 'address': 'Green Grass 1'}\n",
      "{'_id': ObjectId('629df4ef221f6ef336ffb9e3'), 'name': 'Hannah', 'address': 'Mountain 21'}\n",
      "{'_id': ObjectId('629df4bd221f6ef336ffb9e1'), 'name': 'John', 'address': 'Highway 37'}\n",
      "{'_id': ObjectId('629df4ef221f6ef336ffb9e4'), 'name': 'Michael', 'address': 'Valley 345'}\n",
      "{'_id': ObjectId('629df4ef221f6ef336ffb9e7'), 'name': 'Richard', 'address': 'Sky st 331'}\n",
      "{'_id': ObjectId('629df4ef221f6ef336ffb9e5'), 'name': 'Sandy', 'address': 'Ocean blvd 2'}\n",
      "{'_id': ObjectId('629df4ef221f6ef336ffb9e8'), 'name': 'Susan', 'address': 'One way 98'}\n",
      "{'_id': ObjectId('629df4ef221f6ef336ffb9e9'), 'name': 'Vicky', 'address': 'Yellow Garden 2'}\n",
      "{'_id': ObjectId('629df4ef221f6ef336ffb9eb'), 'name': 'William', 'address': 'Central st 954'}\n"
     ]
    }
   ],
   "source": [
    "mydoc = mycol.find().sort(\"name\")\n",
    "\n",
    "for x in mydoc:\n",
    "    print(x) "
   ]
  },
  {
   "cell_type": "code",
   "execution_count": 38,
   "id": "4977bc66",
   "metadata": {},
   "outputs": [
    {
     "data": {
      "text/html": [
       "<div>\n",
       "<style scoped>\n",
       "    .dataframe tbody tr th:only-of-type {\n",
       "        vertical-align: middle;\n",
       "    }\n",
       "\n",
       "    .dataframe tbody tr th {\n",
       "        vertical-align: top;\n",
       "    }\n",
       "\n",
       "    .dataframe thead th {\n",
       "        text-align: right;\n",
       "    }\n",
       "</style>\n",
       "<table border=\"1\" class=\"dataframe\">\n",
       "  <thead>\n",
       "    <tr style=\"text-align: right;\">\n",
       "      <th></th>\n",
       "      <th>_id</th>\n",
       "      <th>name</th>\n",
       "      <th>address</th>\n",
       "    </tr>\n",
       "  </thead>\n",
       "  <tbody>\n",
       "    <tr>\n",
       "      <th>0</th>\n",
       "      <td>629df4ef221f6ef336ffb9e2</td>\n",
       "      <td>Amy</td>\n",
       "      <td>Apple st 652</td>\n",
       "    </tr>\n",
       "    <tr>\n",
       "      <th>1</th>\n",
       "      <td>629f213c9c07f55127337c8c</td>\n",
       "      <td>Amy</td>\n",
       "      <td>Apple st 652</td>\n",
       "    </tr>\n",
       "    <tr>\n",
       "      <th>2</th>\n",
       "      <td>629df4ef221f6ef336ffb9ea</td>\n",
       "      <td>Ben</td>\n",
       "      <td>Park Lane 38</td>\n",
       "    </tr>\n",
       "    <tr>\n",
       "      <th>3</th>\n",
       "      <td>629f213c9c07f55127337c94</td>\n",
       "      <td>Ben</td>\n",
       "      <td>Park Lane 38</td>\n",
       "    </tr>\n",
       "    <tr>\n",
       "      <th>4</th>\n",
       "      <td>629df4ef221f6ef336ffb9e6</td>\n",
       "      <td>Betty</td>\n",
       "      <td>Green Grass 1</td>\n",
       "    </tr>\n",
       "  </tbody>\n",
       "</table>\n",
       "</div>"
      ],
      "text/plain": [
       "                        _id   name        address\n",
       "0  629df4ef221f6ef336ffb9e2    Amy   Apple st 652\n",
       "1  629f213c9c07f55127337c8c    Amy   Apple st 652\n",
       "2  629df4ef221f6ef336ffb9ea    Ben   Park Lane 38\n",
       "3  629f213c9c07f55127337c94    Ben   Park Lane 38\n",
       "4  629df4ef221f6ef336ffb9e6  Betty  Green Grass 1"
      ]
     },
     "metadata": {},
     "output_type": "display_data"
    }
   ],
   "source": [
    "df = pd.DataFrame(list(mycol.find().sort(\"name\"))).reset_index(drop=True)\n",
    "display(df.head())"
   ]
  },
  {
   "cell_type": "markdown",
   "id": "1ba06730",
   "metadata": {},
   "source": [
    "### Limit"
   ]
  },
  {
   "cell_type": "code",
   "execution_count": 13,
   "id": "2c27cbe9",
   "metadata": {},
   "outputs": [
    {
     "name": "stdout",
     "output_type": "stream",
     "text": [
      "{'_id': ObjectId('629df4bd221f6ef336ffb9e1'), 'name': 'John', 'address': 'Highway 37'}\n",
      "{'_id': ObjectId('629df4ef221f6ef336ffb9e2'), 'name': 'Amy', 'address': 'Apple st 652'}\n",
      "{'_id': ObjectId('629df4ef221f6ef336ffb9e3'), 'name': 'Hannah', 'address': 'Mountain 21'}\n",
      "{'_id': ObjectId('629df4ef221f6ef336ffb9e4'), 'name': 'Michael', 'address': 'Valley 345'}\n",
      "{'_id': ObjectId('629df4ef221f6ef336ffb9e5'), 'name': 'Sandy', 'address': 'Ocean blvd 2'}\n"
     ]
    }
   ],
   "source": [
    "myresult = mycol.find().limit(5)\n",
    "#print the result:\n",
    "for x in myresult:\n",
    "    print(x) "
   ]
  },
  {
   "cell_type": "code",
   "execution_count": 39,
   "id": "66121972",
   "metadata": {},
   "outputs": [
    {
     "data": {
      "text/html": [
       "<div>\n",
       "<style scoped>\n",
       "    .dataframe tbody tr th:only-of-type {\n",
       "        vertical-align: middle;\n",
       "    }\n",
       "\n",
       "    .dataframe tbody tr th {\n",
       "        vertical-align: top;\n",
       "    }\n",
       "\n",
       "    .dataframe thead th {\n",
       "        text-align: right;\n",
       "    }\n",
       "</style>\n",
       "<table border=\"1\" class=\"dataframe\">\n",
       "  <thead>\n",
       "    <tr style=\"text-align: right;\">\n",
       "      <th></th>\n",
       "      <th>_id</th>\n",
       "      <th>name</th>\n",
       "      <th>address</th>\n",
       "    </tr>\n",
       "  </thead>\n",
       "  <tbody>\n",
       "    <tr>\n",
       "      <th>0</th>\n",
       "      <td>629df4bd221f6ef336ffb9e1</td>\n",
       "      <td>John</td>\n",
       "      <td>Highway 37</td>\n",
       "    </tr>\n",
       "    <tr>\n",
       "      <th>1</th>\n",
       "      <td>629df4ef221f6ef336ffb9e2</td>\n",
       "      <td>Amy</td>\n",
       "      <td>Apple st 652</td>\n",
       "    </tr>\n",
       "    <tr>\n",
       "      <th>2</th>\n",
       "      <td>629df4ef221f6ef336ffb9e3</td>\n",
       "      <td>Hannah</td>\n",
       "      <td>Mountain 21</td>\n",
       "    </tr>\n",
       "    <tr>\n",
       "      <th>3</th>\n",
       "      <td>629df4ef221f6ef336ffb9e4</td>\n",
       "      <td>Michael</td>\n",
       "      <td>Canyon 123</td>\n",
       "    </tr>\n",
       "    <tr>\n",
       "      <th>4</th>\n",
       "      <td>629df4ef221f6ef336ffb9e5</td>\n",
       "      <td>Sandy</td>\n",
       "      <td>Ocean blvd 2</td>\n",
       "    </tr>\n",
       "  </tbody>\n",
       "</table>\n",
       "</div>"
      ],
      "text/plain": [
       "                        _id     name       address\n",
       "0  629df4bd221f6ef336ffb9e1     John    Highway 37\n",
       "1  629df4ef221f6ef336ffb9e2      Amy  Apple st 652\n",
       "2  629df4ef221f6ef336ffb9e3   Hannah   Mountain 21\n",
       "3  629df4ef221f6ef336ffb9e4  Michael    Canyon 123\n",
       "4  629df4ef221f6ef336ffb9e5    Sandy  Ocean blvd 2"
      ]
     },
     "metadata": {},
     "output_type": "display_data"
    }
   ],
   "source": [
    "df = pd.DataFrame(list(mycol.find().limit(5))).reset_index(drop=True)\n",
    "display(df.head())"
   ]
  },
  {
   "cell_type": "markdown",
   "id": "59dce5bd",
   "metadata": {},
   "source": [
    "### Update Collection"
   ]
  },
  {
   "cell_type": "code",
   "execution_count": 14,
   "id": "401e3442",
   "metadata": {},
   "outputs": [
    {
     "name": "stdout",
     "output_type": "stream",
     "text": [
      "{'_id': ObjectId('629df4bd221f6ef336ffb9e1'), 'name': 'John', 'address': 'Highway 37'}\n",
      "{'_id': ObjectId('629df4ef221f6ef336ffb9e2'), 'name': 'Amy', 'address': 'Apple st 652'}\n",
      "{'_id': ObjectId('629df4ef221f6ef336ffb9e3'), 'name': 'Hannah', 'address': 'Mountain 21'}\n",
      "{'_id': ObjectId('629df4ef221f6ef336ffb9e4'), 'name': 'Michael', 'address': 'Canyon 123'}\n",
      "{'_id': ObjectId('629df4ef221f6ef336ffb9e5'), 'name': 'Sandy', 'address': 'Ocean blvd 2'}\n",
      "{'_id': ObjectId('629df4ef221f6ef336ffb9e6'), 'name': 'Betty', 'address': 'Green Grass 1'}\n",
      "{'_id': ObjectId('629df4ef221f6ef336ffb9e7'), 'name': 'Richard', 'address': 'Sky st 331'}\n",
      "{'_id': ObjectId('629df4ef221f6ef336ffb9e8'), 'name': 'Susan', 'address': 'One way 98'}\n",
      "{'_id': ObjectId('629df4ef221f6ef336ffb9e9'), 'name': 'Vicky', 'address': 'Yellow Garden 2'}\n",
      "{'_id': ObjectId('629df4ef221f6ef336ffb9ea'), 'name': 'Ben', 'address': 'Park Lane 38'}\n",
      "{'_id': ObjectId('629df4ef221f6ef336ffb9eb'), 'name': 'William', 'address': 'Central st 954'}\n"
     ]
    }
   ],
   "source": [
    "myquery = { \"address\": \"Valley 345\" }\n",
    "newvalues = {\"$set\": {\"address\": \"Canyon 123\" } }\n",
    "\n",
    "mycol.update_one(myquery, newvalues)\n",
    "\n",
    "#print \"customers\" after the update:\n",
    "for x in mycol.find():\n",
    "    print(x) "
   ]
  },
  {
   "cell_type": "markdown",
   "id": "7ec45a86",
   "metadata": {},
   "source": [
    "### Update Many"
   ]
  },
  {
   "cell_type": "code",
   "execution_count": 15,
   "id": "603656c2",
   "metadata": {},
   "outputs": [
    {
     "name": "stdout",
     "output_type": "stream",
     "text": [
      "1 documents updated.\n"
     ]
    }
   ],
   "source": [
    "myquery = { \"address\": { \"$regex\": \"^S\" } }\n",
    "newvalues = { \"$set\": { \"name\": \"Minnie\" } }\n",
    "\n",
    "x = mycol.update_many(myquery, newvalues)\n",
    "\n",
    "print(x.modified_count, \"documents updated.\") "
   ]
  },
  {
   "cell_type": "markdown",
   "id": "c292b51d",
   "metadata": {},
   "source": [
    "### Delete Multiple Document"
   ]
  },
  {
   "cell_type": "code",
   "execution_count": 40,
   "id": "a0fe64df",
   "metadata": {},
   "outputs": [
    {
     "data": {
      "text/plain": [
       "<pymongo.results.DeleteResult at 0x26329b955e0>"
      ]
     },
     "execution_count": 40,
     "metadata": {},
     "output_type": "execute_result"
    }
   ],
   "source": [
    "myquery = { \"address\": {\"$regex\": \"^S\"} }\n",
    "\n",
    "x = mycol.delete_many(myquery)\n",
    "\n",
    "print(x.deleted_count, \" documents deleted.\") "
   ]
  },
  {
   "cell_type": "markdown",
   "id": "4495a226",
   "metadata": {},
   "source": [
    "### Delete Collection"
   ]
  },
  {
   "cell_type": "code",
   "execution_count": null,
   "id": "f8aa3ccb",
   "metadata": {},
   "outputs": [],
   "source": [
    "mycol.drop() "
   ]
  },
  {
   "cell_type": "markdown",
   "id": "b82995f7",
   "metadata": {},
   "source": [
    "### CSV to MongoDB"
   ]
  },
  {
   "cell_type": "code",
   "execution_count": null,
   "id": "72a5a144",
   "metadata": {},
   "outputs": [],
   "source": [
    "titanic_data=pd.read_csv('data/titanic')\n",
    "myCollection.insert_many(data_dict)"
   ]
  }
 ],
 "metadata": {
  "kernelspec": {
   "display_name": "Python 3 (ipykernel)",
   "language": "python",
   "name": "python3"
  },
  "language_info": {
   "codemirror_mode": {
    "name": "ipython",
    "version": 3
   },
   "file_extension": ".py",
   "mimetype": "text/x-python",
   "name": "python",
   "nbconvert_exporter": "python",
   "pygments_lexer": "ipython3",
   "version": "3.9.12"
  }
 },
 "nbformat": 4,
 "nbformat_minor": 5
}
