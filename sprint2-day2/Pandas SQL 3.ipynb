{
 "cells": [
  {
   "cell_type": "code",
   "execution_count": 1,
   "id": "32ffdfb8",
   "metadata": {},
   "outputs": [],
   "source": [
    "import pandas as pd\n",
    "import sqlite3"
   ]
  },
  {
   "cell_type": "markdown",
   "id": "f478b63b",
   "metadata": {},
   "source": [
    "### Create Database"
   ]
  },
  {
   "cell_type": "code",
   "execution_count": 2,
   "id": "235a244b",
   "metadata": {},
   "outputs": [],
   "source": [
    "conn = sqlite3.connect(\"database/crud.db\")\n",
    "conn.close()"
   ]
  },
  {
   "cell_type": "markdown",
   "id": "051d88fc",
   "metadata": {},
   "source": [
    "### Create Table\n",
    "\n",
    "* PRIMARY KEY\n",
    "* FOREIGN KEY \n",
    "* CHECK constraint \n",
    "* NOT NULL\n",
    "* DEFAULT\n",
    "* Index"
   ]
  },
  {
   "cell_type": "code",
   "execution_count": 15,
   "id": "8a703ade",
   "metadata": {},
   "outputs": [
    {
     "name": "stdout",
     "output_type": "stream",
     "text": [
      "Table is Ready\n"
     ]
    }
   ],
   "source": [
    "conn = sqlite3.connect('database/crud.db')\n",
    " \n",
    "cursor_obj = conn.cursor()\n",
    " \n",
    "cursor_obj.execute(\"DROP TABLE IF EXISTS Student\")\n",
    " \n",
    "# table = \"\"\" CREATE TABLE Student (\n",
    "#             Student_id INTEGER AUTO_INCREMENT PRIMARY KEY,\n",
    "#             Email VARCHAR(255) UNIQUE,\n",
    "#             First_Name VARCHAR(25) NOT NULL,\n",
    "#             Last_Name VARCHAR(25) NOT NULL,\n",
    "#             Middle_Name VARCHAR(25),\n",
    "#             Age int CHECK (Age<=12),\n",
    "#             Added_Date TIMESTAMP DEFAULT CURRENT_TIMESTAMP\n",
    "#         ); \"\"\"\n",
    " \n",
    "table = \"\"\" CREATE TABLE Student (\n",
    "            Student_id INTEGER PRIMARY KEY,\n",
    "            Email VARCHAR(255) UNIQUE,\n",
    "            First_Name VARCHAR(25) NOT NULL,\n",
    "            Last_Name VARCHAR(25) NOT NULL,\n",
    "            Middle_Name VARCHAR(25),\n",
    "            Age int CHECK (Age<=12),\n",
    "            Added_Date TIMESTAMP DEFAULT CURRENT_TIMESTAMP\n",
    "        ); \"\"\"\n",
    "     \n",
    "cursor_obj.execute(table)\n",
    " \n",
    "print(\"Table is Ready\")\n",
    " \n",
    "# Close the connection\n",
    "conn.close()"
   ]
  },
  {
   "cell_type": "code",
   "execution_count": 4,
   "id": "aa93c319",
   "metadata": {},
   "outputs": [
    {
     "data": {
      "text/html": [
       "<div>\n",
       "<style scoped>\n",
       "    .dataframe tbody tr th:only-of-type {\n",
       "        vertical-align: middle;\n",
       "    }\n",
       "\n",
       "    .dataframe tbody tr th {\n",
       "        vertical-align: top;\n",
       "    }\n",
       "\n",
       "    .dataframe thead th {\n",
       "        text-align: right;\n",
       "    }\n",
       "</style>\n",
       "<table border=\"1\" class=\"dataframe\">\n",
       "  <thead>\n",
       "    <tr style=\"text-align: right;\">\n",
       "      <th></th>\n",
       "      <th>type</th>\n",
       "      <th>name</th>\n",
       "      <th>tbl_name</th>\n",
       "      <th>rootpage</th>\n",
       "      <th>sql</th>\n",
       "    </tr>\n",
       "  </thead>\n",
       "  <tbody>\n",
       "    <tr>\n",
       "      <th>0</th>\n",
       "      <td>table</td>\n",
       "      <td>Student</td>\n",
       "      <td>Student</td>\n",
       "      <td>2</td>\n",
       "      <td>CREATE TABLE Student (\\n            Student_id...</td>\n",
       "    </tr>\n",
       "  </tbody>\n",
       "</table>\n",
       "</div>"
      ],
      "text/plain": [
       "    type     name tbl_name  rootpage  \\\n",
       "0  table  Student  Student         2   \n",
       "\n",
       "                                                 sql  \n",
       "0  CREATE TABLE Student (\\n            Student_id...  "
      ]
     },
     "execution_count": 4,
     "metadata": {},
     "output_type": "execute_result"
    }
   ],
   "source": [
    "conn = sqlite3.connect('database/crud.db')\n",
    "\n",
    "query = \"\"\"\n",
    "SELECT * FROM sqlite_schema WHERE type='table';\n",
    "\"\"\"\n",
    "select_df = pd.read_sql_query(query, conn)\n",
    "conn.close()\n",
    "\n",
    "select_df.head()"
   ]
  },
  {
   "cell_type": "code",
   "execution_count": 19,
   "id": "fc5b8a60",
   "metadata": {},
   "outputs": [
    {
     "name": "stdout",
     "output_type": "stream",
     "text": [
      "CREATE TABLE Student (\n",
      "            Student_id INTEGER PRIMARY KEY,\n",
      "            Email VARCHAR(255) UNIQUE,\n",
      "            First_Name VARCHAR(25) NOT NULL,\n",
      "            Last_Name VARCHAR(25) NOT NULL,\n",
      "            Middle_Name VARCHAR(25),\n",
      "            Age int CHECK (Age<=12),\n",
      "            Added_Date TIMESTAMP DEFAULT CURRENT_TIMESTAMP\n",
      "        )\n"
     ]
    }
   ],
   "source": [
    "print(select_df['sql'][0])"
   ]
  },
  {
   "cell_type": "markdown",
   "id": "c56ac78f",
   "metadata": {},
   "source": [
    "### Alter Table Name"
   ]
  },
  {
   "cell_type": "code",
   "execution_count": 5,
   "id": "3af28958",
   "metadata": {},
   "outputs": [
    {
     "name": "stdout",
     "output_type": "stream",
     "text": [
      "Table is Ready\n"
     ]
    }
   ],
   "source": [
    "conn = sqlite3.connect('database/crud.db')\n",
    " \n",
    "cursor_obj = conn.cursor()\n",
    " \n",
    "table = \"\"\" \n",
    "ALTER TABLE Student\n",
    "RENAME TO Student_1;\n",
    "\"\"\"\n",
    " \n",
    "cursor_obj.execute(table)\n",
    " \n",
    "print(\"Table is Ready\")\n",
    " \n",
    "# Close the connection\n",
    "conn.close()"
   ]
  },
  {
   "cell_type": "markdown",
   "id": "e649d741",
   "metadata": {},
   "source": [
    "### Alter Table Properties"
   ]
  },
  {
   "cell_type": "code",
   "execution_count": 16,
   "id": "308bb590",
   "metadata": {},
   "outputs": [
    {
     "name": "stdout",
     "output_type": "stream",
     "text": [
      "Table is Ready\n"
     ]
    }
   ],
   "source": [
    "conn = sqlite3.connect('database/crud.db')\n",
    " \n",
    "cursor_obj = conn.cursor()\n",
    " \n",
    "table = \"\"\" \n",
    "ALTER TABLE Student\n",
    "ADD COLUMN Gender char(1);\n",
    "\"\"\"\n",
    " \n",
    "cursor_obj.execute(table)\n",
    " \n",
    "print(\"Table is Ready\")\n",
    " \n",
    "# Close the connection\n",
    "conn.close()"
   ]
  },
  {
   "cell_type": "code",
   "execution_count": 20,
   "id": "242ce4ac",
   "metadata": {},
   "outputs": [
    {
     "data": {
      "text/html": [
       "<div>\n",
       "<style scoped>\n",
       "    .dataframe tbody tr th:only-of-type {\n",
       "        vertical-align: middle;\n",
       "    }\n",
       "\n",
       "    .dataframe tbody tr th {\n",
       "        vertical-align: top;\n",
       "    }\n",
       "\n",
       "    .dataframe thead th {\n",
       "        text-align: right;\n",
       "    }\n",
       "</style>\n",
       "<table border=\"1\" class=\"dataframe\">\n",
       "  <thead>\n",
       "    <tr style=\"text-align: right;\">\n",
       "      <th></th>\n",
       "      <th>type</th>\n",
       "      <th>name</th>\n",
       "      <th>tbl_name</th>\n",
       "      <th>rootpage</th>\n",
       "      <th>sql</th>\n",
       "    </tr>\n",
       "  </thead>\n",
       "  <tbody>\n",
       "    <tr>\n",
       "      <th>0</th>\n",
       "      <td>table</td>\n",
       "      <td>Student_1</td>\n",
       "      <td>Student_1</td>\n",
       "      <td>2</td>\n",
       "      <td>CREATE TABLE \"Student_1\" (\\n            Studen...</td>\n",
       "    </tr>\n",
       "    <tr>\n",
       "      <th>1</th>\n",
       "      <td>table</td>\n",
       "      <td>Student</td>\n",
       "      <td>Student</td>\n",
       "      <td>4</td>\n",
       "      <td>CREATE TABLE Student (\\n            Student_id...</td>\n",
       "    </tr>\n",
       "  </tbody>\n",
       "</table>\n",
       "</div>"
      ],
      "text/plain": [
       "    type       name   tbl_name  rootpage  \\\n",
       "0  table  Student_1  Student_1         2   \n",
       "1  table    Student    Student         4   \n",
       "\n",
       "                                                 sql  \n",
       "0  CREATE TABLE \"Student_1\" (\\n            Studen...  \n",
       "1  CREATE TABLE Student (\\n            Student_id...  "
      ]
     },
     "execution_count": 20,
     "metadata": {},
     "output_type": "execute_result"
    }
   ],
   "source": [
    "conn = sqlite3.connect('database/crud.db')\n",
    "\n",
    "query = \"\"\"\n",
    "SELECT * FROM sqlite_schema WHERE type='table';\n",
    "\"\"\"\n",
    "select_df = pd.read_sql_query(query, conn)\n",
    "conn.close()\n",
    "\n",
    "select_df.head()"
   ]
  },
  {
   "cell_type": "markdown",
   "id": "b4aa9d33",
   "metadata": {},
   "source": [
    "### Insert"
   ]
  },
  {
   "cell_type": "code",
   "execution_count": 22,
   "id": "f215ce22",
   "metadata": {},
   "outputs": [
    {
     "name": "stdout",
     "output_type": "stream",
     "text": [
      "Opened database successfully\n",
      "Records created successfully\n"
     ]
    }
   ],
   "source": [
    "import sqlite3\n",
    "\n",
    "conn = sqlite3.connect('database/crud.db')\n",
    "print(\"Opened database successfully\")\n",
    "\n",
    "conn.execute(\"\"\"\n",
    "INSERT INTO Student (Email, First_Name, Last_Name, Age) \n",
    "VALUES ('test@gmail.com', 'Juan', 'dela Cruz', 8)\n",
    "\"\"\"\n",
    ");\n",
    "\n",
    "# conn.execute(\"\"\"\n",
    "# INSERT INTO STUDENT (Email, Middle_Name, Last_Name, Age) \n",
    "# VALUES ('test@gmail.com', 'Juan', 'dela Cruz', 8)\n",
    "# \"\"\"\n",
    "# );\n",
    "\n",
    "# conn.execute(\"\"\"\n",
    "# INSERT INTO STUDENT (Email, First_Name, Last_Name, Age) \n",
    "# VALUES ('test@gmail.com', 'Juan', 'dela Cruz', 13)\n",
    "# \"\"\"\n",
    "# );\n",
    "\n",
    "# conn.execute(\"\"\"\n",
    "# INSERT INTO STUDENT (Email, First_Name, Last_Name, Age) \n",
    "# VALUES ('test@gmail.com', 'Juan', 'dela Cruz', 8)\n",
    "# \"\"\"\n",
    "# );\n",
    "\n",
    "\n",
    "conn.commit()\n",
    "print(\"Records created successfully\")\n",
    "conn.close()"
   ]
  },
  {
   "cell_type": "markdown",
   "id": "87e8e851",
   "metadata": {},
   "source": [
    "### Batch Insert"
   ]
  },
  {
   "cell_type": "code",
   "execution_count": 23,
   "id": "9082e370",
   "metadata": {},
   "outputs": [],
   "source": [
    "students = [\n",
    "#     (\"test@gmail.com\", \"Juan\", \"dela Cruz\", 8),\n",
    "    (\"test_1@gmail.com\", \"Juan_1\", \"dela Cruz\", 8),\n",
    "    (\"test_2@gmail.com\", \"Juan_2\", \"dela Cruz\", 8),\n",
    "    (\"test_3@gmail.com\", \"Juan_1\", \"dela Cruz\", 8),\n",
    "    (\"test_4@gmail.com\", \"Juan_2\", \"dela Cruz\", 8)\n",
    "]\n",
    "\n",
    "conn = sqlite3.connect(\"database/crud.db\")\n",
    "# Fill the table\n",
    "conn.executemany(\"INSERT INTO STUDENT(Email, First_Name, Last_Name, Age) values (?, ?, ?, ?)\", students)\n",
    "conn.commit()\n",
    "conn.close()"
   ]
  },
  {
   "cell_type": "markdown",
   "id": "f677fdc0",
   "metadata": {},
   "source": [
    "### Select"
   ]
  },
  {
   "cell_type": "code",
   "execution_count": 24,
   "id": "8169e778",
   "metadata": {},
   "outputs": [
    {
     "data": {
      "text/html": [
       "<div>\n",
       "<style scoped>\n",
       "    .dataframe tbody tr th:only-of-type {\n",
       "        vertical-align: middle;\n",
       "    }\n",
       "\n",
       "    .dataframe tbody tr th {\n",
       "        vertical-align: top;\n",
       "    }\n",
       "\n",
       "    .dataframe thead th {\n",
       "        text-align: right;\n",
       "    }\n",
       "</style>\n",
       "<table border=\"1\" class=\"dataframe\">\n",
       "  <thead>\n",
       "    <tr style=\"text-align: right;\">\n",
       "      <th></th>\n",
       "      <th>Student_id</th>\n",
       "      <th>Email</th>\n",
       "      <th>First_Name</th>\n",
       "      <th>Last_Name</th>\n",
       "      <th>Middle_Name</th>\n",
       "      <th>Age</th>\n",
       "      <th>Added_Date</th>\n",
       "      <th>Gender</th>\n",
       "    </tr>\n",
       "  </thead>\n",
       "  <tbody>\n",
       "    <tr>\n",
       "      <th>0</th>\n",
       "      <td>1</td>\n",
       "      <td>test@gmail.com</td>\n",
       "      <td>Juan</td>\n",
       "      <td>dela Cruz</td>\n",
       "      <td>None</td>\n",
       "      <td>8</td>\n",
       "      <td>2022-06-07 08:37:35</td>\n",
       "      <td>None</td>\n",
       "    </tr>\n",
       "    <tr>\n",
       "      <th>1</th>\n",
       "      <td>2</td>\n",
       "      <td>test_1@gmail.com</td>\n",
       "      <td>Juan_1</td>\n",
       "      <td>dela Cruz</td>\n",
       "      <td>None</td>\n",
       "      <td>8</td>\n",
       "      <td>2022-06-07 08:37:41</td>\n",
       "      <td>None</td>\n",
       "    </tr>\n",
       "    <tr>\n",
       "      <th>2</th>\n",
       "      <td>3</td>\n",
       "      <td>test_2@gmail.com</td>\n",
       "      <td>Juan_2</td>\n",
       "      <td>dela Cruz</td>\n",
       "      <td>None</td>\n",
       "      <td>8</td>\n",
       "      <td>2022-06-07 08:37:41</td>\n",
       "      <td>None</td>\n",
       "    </tr>\n",
       "    <tr>\n",
       "      <th>3</th>\n",
       "      <td>4</td>\n",
       "      <td>test_3@gmail.com</td>\n",
       "      <td>Juan_1</td>\n",
       "      <td>dela Cruz</td>\n",
       "      <td>None</td>\n",
       "      <td>8</td>\n",
       "      <td>2022-06-07 08:37:41</td>\n",
       "      <td>None</td>\n",
       "    </tr>\n",
       "    <tr>\n",
       "      <th>4</th>\n",
       "      <td>5</td>\n",
       "      <td>test_4@gmail.com</td>\n",
       "      <td>Juan_2</td>\n",
       "      <td>dela Cruz</td>\n",
       "      <td>None</td>\n",
       "      <td>8</td>\n",
       "      <td>2022-06-07 08:37:41</td>\n",
       "      <td>None</td>\n",
       "    </tr>\n",
       "  </tbody>\n",
       "</table>\n",
       "</div>"
      ],
      "text/plain": [
       "   Student_id             Email First_Name  Last_Name Middle_Name  Age  \\\n",
       "0           1    test@gmail.com       Juan  dela Cruz        None    8   \n",
       "1           2  test_1@gmail.com     Juan_1  dela Cruz        None    8   \n",
       "2           3  test_2@gmail.com     Juan_2  dela Cruz        None    8   \n",
       "3           4  test_3@gmail.com     Juan_1  dela Cruz        None    8   \n",
       "4           5  test_4@gmail.com     Juan_2  dela Cruz        None    8   \n",
       "\n",
       "            Added_Date Gender  \n",
       "0  2022-06-07 08:37:35   None  \n",
       "1  2022-06-07 08:37:41   None  \n",
       "2  2022-06-07 08:37:41   None  \n",
       "3  2022-06-07 08:37:41   None  \n",
       "4  2022-06-07 08:37:41   None  "
      ]
     },
     "execution_count": 24,
     "metadata": {},
     "output_type": "execute_result"
    }
   ],
   "source": [
    "conn = sqlite3.connect('database/crud.db')\n",
    "\n",
    "query = \"\"\"\n",
    "SELECT * FROM Student;\n",
    "\"\"\"\n",
    "select_df = pd.read_sql_query(query, conn)\n",
    "conn.close()\n",
    "\n",
    "select_df.head()"
   ]
  },
  {
   "cell_type": "markdown",
   "id": "056512be",
   "metadata": {},
   "source": [
    "### Update\n",
    "\n",
    "* UPDATE table_name SET column1 = value1, column2 = value2, ... WHERE condition; "
   ]
  },
  {
   "cell_type": "code",
   "execution_count": 25,
   "id": "b7b5af12",
   "metadata": {},
   "outputs": [],
   "source": [
    "conn = sqlite3.connect(\"database/crud.db\")\n",
    "conn.execute(\"UPDATE Student SET First_Name=? WHERE Student_id=?\", ('Maria',1))\n",
    "conn.commit()\n",
    "conn.close()"
   ]
  },
  {
   "cell_type": "markdown",
   "id": "a9d29ef9",
   "metadata": {},
   "source": [
    "### Delete\n",
    "\n",
    "* DELETE FROM table_name WHERE condition;"
   ]
  },
  {
   "cell_type": "code",
   "execution_count": 26,
   "id": "53554f6b",
   "metadata": {},
   "outputs": [],
   "source": [
    "conn = sqlite3.connect(\"database/crud.db\")\n",
    "conn.execute(\"DELETE FROM Student WHERE First_Name=?\", ('Maria',))\n",
    "conn.commit()\n",
    "conn.close()"
   ]
  },
  {
   "cell_type": "markdown",
   "id": "62a8f734",
   "metadata": {},
   "source": [
    "### Drop Table"
   ]
  },
  {
   "cell_type": "code",
   "execution_count": 27,
   "id": "4f2f7391",
   "metadata": {},
   "outputs": [],
   "source": [
    "conn = sqlite3.connect(\"database/crud.db\")\n",
    "conn.execute(\"Drop Table Student\")\n",
    "conn.commit()\n",
    "conn.close()"
   ]
  },
  {
   "cell_type": "code",
   "execution_count": 28,
   "id": "80dd010c",
   "metadata": {},
   "outputs": [
    {
     "data": {
      "text/html": [
       "<div>\n",
       "<style scoped>\n",
       "    .dataframe tbody tr th:only-of-type {\n",
       "        vertical-align: middle;\n",
       "    }\n",
       "\n",
       "    .dataframe tbody tr th {\n",
       "        vertical-align: top;\n",
       "    }\n",
       "\n",
       "    .dataframe thead th {\n",
       "        text-align: right;\n",
       "    }\n",
       "</style>\n",
       "<table border=\"1\" class=\"dataframe\">\n",
       "  <thead>\n",
       "    <tr style=\"text-align: right;\">\n",
       "      <th></th>\n",
       "      <th>type</th>\n",
       "      <th>name</th>\n",
       "      <th>tbl_name</th>\n",
       "      <th>rootpage</th>\n",
       "      <th>sql</th>\n",
       "    </tr>\n",
       "  </thead>\n",
       "  <tbody>\n",
       "    <tr>\n",
       "      <th>0</th>\n",
       "      <td>table</td>\n",
       "      <td>Student_1</td>\n",
       "      <td>Student_1</td>\n",
       "      <td>2</td>\n",
       "      <td>CREATE TABLE \"Student_1\" (\\n            Studen...</td>\n",
       "    </tr>\n",
       "  </tbody>\n",
       "</table>\n",
       "</div>"
      ],
      "text/plain": [
       "    type       name   tbl_name  rootpage  \\\n",
       "0  table  Student_1  Student_1         2   \n",
       "\n",
       "                                                 sql  \n",
       "0  CREATE TABLE \"Student_1\" (\\n            Studen...  "
      ]
     },
     "execution_count": 28,
     "metadata": {},
     "output_type": "execute_result"
    }
   ],
   "source": [
    "conn = sqlite3.connect('database/crud.db')\n",
    "\n",
    "query = \"\"\"\n",
    "SELECT * FROM sqlite_schema WHERE type='table';\n",
    "\"\"\"\n",
    "select_df = pd.read_sql_query(query, conn)\n",
    "conn.close()\n",
    "\n",
    "select_df.head()"
   ]
  }
 ],
 "metadata": {
  "kernelspec": {
   "display_name": "Python 3 (ipykernel)",
   "language": "python",
   "name": "python3"
  },
  "language_info": {
   "codemirror_mode": {
    "name": "ipython",
    "version": 3
   },
   "file_extension": ".py",
   "mimetype": "text/x-python",
   "name": "python",
   "nbconvert_exporter": "python",
   "pygments_lexer": "ipython3",
   "version": "3.9.12"
  }
 },
 "nbformat": 4,
 "nbformat_minor": 5
}
