{
 "cells": [
  {
   "cell_type": "code",
   "execution_count": 1,
   "id": "1da61ba1",
   "metadata": {},
   "outputs": [
    {
     "name": "stdout",
     "output_type": "stream",
     "text": [
      "Collecting jsonlines\n",
      "  Downloading jsonlines-3.0.0-py3-none-any.whl (8.5 kB)\n",
      "Requirement already satisfied: attrs>=19.2.0 in c:\\users\\rheyannmagcalas\\appdata\\roaming\\python\\python39\\site-packages (from jsonlines) (21.4.0)\n",
      "Installing collected packages: jsonlines\n",
      "Successfully installed jsonlines-3.0.0\n"
     ]
    },
    {
     "name": "stderr",
     "output_type": "stream",
     "text": [
      "WARNING: There was an error checking the latest version of pip.\n"
     ]
    }
   ],
   "source": [
    "!pip install jsonlines"
   ]
  },
  {
   "cell_type": "code",
   "execution_count": 5,
   "id": "fe58d8fa",
   "metadata": {},
   "outputs": [],
   "source": [
    "import jsonlines"
   ]
  },
  {
   "cell_type": "markdown",
   "id": "a8cd5a87",
   "metadata": {},
   "source": [
    "### JSON"
   ]
  },
  {
   "cell_type": "code",
   "execution_count": 22,
   "id": "3d182bd6",
   "metadata": {},
   "outputs": [
    {
     "name": "stdout",
     "output_type": "stream",
     "text": [
      "   Name  Age Course\n",
      "0   Jay   16    BBA\n",
      "1  Jack   19  BTech\n",
      "2  Mark   18    BSc\n"
     ]
    }
   ],
   "source": [
    "import pandas as pd\n",
    "\n",
    "df = pd.DataFrame([['Jay',16,'BBA'],\n",
    "                   ['Jack',19,'BTech'],\n",
    "                   ['Mark',18,'BSc']],\n",
    "                  columns = ['Name','Age','Course'])\n",
    "\n",
    "print(df)"
   ]
  },
  {
   "cell_type": "code",
   "execution_count": 26,
   "id": "98251dcf",
   "metadata": {},
   "outputs": [
    {
     "name": "stdout",
     "output_type": "stream",
     "text": [
      "{\"Name\":{\"0\":\"Jay\",\"1\":\"Jack\",\"2\":\"Mark\"},\"Age\":{\"0\":16,\"1\":19,\"2\":18},\"Course\":{\"0\":\"BBA\",\"1\":\"BTech\",\"2\":\"BSc\"}}\n"
     ]
    }
   ],
   "source": [
    "import pandas as pd\n",
    "\n",
    "df = pd.DataFrame([['Jay',16,'BBA'],\n",
    "                   ['Jack',19,'BTech'],\n",
    "                   ['Mark',18,'BSc']],\n",
    "                  columns = ['Name','Age','Course'])\n",
    "\n",
    "js = df.to_json(orient = 'columns')\n",
    "\n",
    "print(js)"
   ]
  },
  {
   "cell_type": "code",
   "execution_count": 31,
   "id": "96845c7a",
   "metadata": {},
   "outputs": [],
   "source": [
    "with open(\"data/json/columns.json\", \"w\") as outfile:\n",
    "    outfile.write(js)"
   ]
  },
  {
   "cell_type": "code",
   "execution_count": 17,
   "id": "b7f58ddb",
   "metadata": {},
   "outputs": [
    {
     "name": "stdout",
     "output_type": "stream",
     "text": [
      "{\"0\":{\"Name\":\"Jay\",\"Age\":16,\"Course\":\"BBA\"},\"1\":{\"Name\":\"Jack\",\"Age\":19,\"Course\":\"BTech\"},\"2\":{\"Name\":\"Mark\",\"Age\":18,\"Course\":\"BSc\"}}\n"
     ]
    }
   ],
   "source": [
    "import pandas as pd\n",
    "\n",
    "df = pd.DataFrame([['Jay',16,'BBA'],\n",
    "                   ['Jack',19,'BTech'],\n",
    "                   ['Mark',18,'BSc']],\n",
    "                  columns = ['Name','Age','Course'])\n",
    "\n",
    "js = df.to_json(orient = 'index')\n",
    "\n",
    "print(js)"
   ]
  },
  {
   "cell_type": "code",
   "execution_count": 30,
   "id": "55dc9a13",
   "metadata": {},
   "outputs": [],
   "source": [
    "with open(\"data/json/index.json\", \"w\") as outfile:\n",
    "    outfile.write(js)"
   ]
  },
  {
   "cell_type": "code",
   "execution_count": 18,
   "id": "26a831ce",
   "metadata": {},
   "outputs": [
    {
     "name": "stdout",
     "output_type": "stream",
     "text": [
      "{\"columns\":[\"Name\",\"Age\",\"Course\"],\"index\":[0,1,2],\"data\":[[\"Jay\",16,\"BBA\"],[\"Jack\",19,\"BTech\"],[\"Mark\",18,\"BSc\"]]}\n"
     ]
    }
   ],
   "source": [
    "import pandas as pd\n",
    "\n",
    "df = pd.DataFrame([['Jay',16,'BBA'],\n",
    "                   ['Jack',19,'BTech'],\n",
    "                   ['Mark',18,'BSc']],\n",
    "                  columns = ['Name','Age','Course'])\n",
    "\n",
    "js = df.to_json(orient = 'split')\n",
    "\n",
    "print(js)"
   ]
  },
  {
   "cell_type": "code",
   "execution_count": 29,
   "id": "c2c9b680",
   "metadata": {},
   "outputs": [],
   "source": [
    "with open(\"data/json/split.json\", \"w\") as outfile:\n",
    "    outfile.write(js)"
   ]
  },
  {
   "cell_type": "markdown",
   "id": "3a82b44c",
   "metadata": {},
   "source": [
    "### Read"
   ]
  },
  {
   "cell_type": "code",
   "execution_count": 32,
   "id": "4847a3c3",
   "metadata": {},
   "outputs": [
    {
     "data": {
      "text/html": [
       "<div>\n",
       "<style scoped>\n",
       "    .dataframe tbody tr th:only-of-type {\n",
       "        vertical-align: middle;\n",
       "    }\n",
       "\n",
       "    .dataframe tbody tr th {\n",
       "        vertical-align: top;\n",
       "    }\n",
       "\n",
       "    .dataframe thead th {\n",
       "        text-align: right;\n",
       "    }\n",
       "</style>\n",
       "<table border=\"1\" class=\"dataframe\">\n",
       "  <thead>\n",
       "    <tr style=\"text-align: right;\">\n",
       "      <th></th>\n",
       "      <th>Name</th>\n",
       "      <th>Age</th>\n",
       "      <th>Course</th>\n",
       "    </tr>\n",
       "  </thead>\n",
       "  <tbody>\n",
       "    <tr>\n",
       "      <th>0</th>\n",
       "      <td>Jay</td>\n",
       "      <td>16</td>\n",
       "      <td>BBA</td>\n",
       "    </tr>\n",
       "    <tr>\n",
       "      <th>1</th>\n",
       "      <td>Jack</td>\n",
       "      <td>19</td>\n",
       "      <td>BTech</td>\n",
       "    </tr>\n",
       "    <tr>\n",
       "      <th>2</th>\n",
       "      <td>Mark</td>\n",
       "      <td>18</td>\n",
       "      <td>BSc</td>\n",
       "    </tr>\n",
       "  </tbody>\n",
       "</table>\n",
       "</div>"
      ],
      "text/plain": [
       "   Name  Age Course\n",
       "0   Jay   16    BBA\n",
       "1  Jack   19  BTech\n",
       "2  Mark   18    BSc"
      ]
     },
     "execution_count": 32,
     "metadata": {},
     "output_type": "execute_result"
    }
   ],
   "source": [
    "json_data = pd.read_json('data/json/split.json')\n",
    "json_data"
   ]
  },
  {
   "cell_type": "code",
   "execution_count": 34,
   "id": "68f078e4",
   "metadata": {},
   "outputs": [],
   "source": [
    "import jsonlines\n",
    "\n",
    "items = [\n",
    "    {'a': 1, 'b': 2},\n",
    "    {'a': 123, 'b': 456},\n",
    "]\n",
    "\n",
    "with jsonlines.open('data/json/output.jsonl', 'w') as writer:\n",
    "    writer.write_all(items)"
   ]
  },
  {
   "cell_type": "code",
   "execution_count": 43,
   "id": "b0e7dbf6",
   "metadata": {},
   "outputs": [
    {
     "data": {
      "text/html": [
       "<div>\n",
       "<style scoped>\n",
       "    .dataframe tbody tr th:only-of-type {\n",
       "        vertical-align: middle;\n",
       "    }\n",
       "\n",
       "    .dataframe tbody tr th {\n",
       "        vertical-align: top;\n",
       "    }\n",
       "\n",
       "    .dataframe thead th {\n",
       "        text-align: right;\n",
       "    }\n",
       "</style>\n",
       "<table border=\"1\" class=\"dataframe\">\n",
       "  <thead>\n",
       "    <tr style=\"text-align: right;\">\n",
       "      <th></th>\n",
       "      <th>a</th>\n",
       "      <th>b</th>\n",
       "    </tr>\n",
       "  </thead>\n",
       "  <tbody>\n",
       "    <tr>\n",
       "      <th>0</th>\n",
       "      <td>1</td>\n",
       "      <td>2</td>\n",
       "    </tr>\n",
       "    <tr>\n",
       "      <th>1</th>\n",
       "      <td>123</td>\n",
       "      <td>456</td>\n",
       "    </tr>\n",
       "  </tbody>\n",
       "</table>\n",
       "</div>"
      ],
      "text/plain": [
       "     a    b\n",
       "0    1    2\n",
       "1  123  456"
      ]
     },
     "execution_count": 43,
     "metadata": {},
     "output_type": "execute_result"
    }
   ],
   "source": [
    "json_data = pd.read_json('data/json/output.jsonl', lines=True)\n",
    "json_data"
   ]
  },
  {
   "cell_type": "markdown",
   "id": "b9287c51",
   "metadata": {},
   "source": [
    "### Parquet"
   ]
  },
  {
   "cell_type": "code",
   "execution_count": 46,
   "id": "5b8ac1a6",
   "metadata": {},
   "outputs": [
    {
     "name": "stderr",
     "output_type": "stream",
     "text": [
      "WARNING: There was an error checking the latest version of pip.\n"
     ]
    },
    {
     "name": "stdout",
     "output_type": "stream",
     "text": [
      "Collecting fastparquet\n",
      "  Downloading fastparquet-0.8.1-cp39-cp39-win_amd64.whl (608 kB)\n",
      "     ------------------------------------- 608.5/608.5 kB 19.3 MB/s eta 0:00:00\n",
      "Requirement already satisfied: numpy>=1.18 in c:\\users\\rheyannmagcalas\\appdata\\roaming\\python\\python39\\site-packages (from fastparquet) (1.22.4)\n",
      "Requirement already satisfied: pandas>=1.1.0 in c:\\users\\rheyannmagcalas\\appdata\\roaming\\python\\python39\\site-packages (from fastparquet) (1.4.2)\n",
      "Requirement already satisfied: fsspec in c:\\users\\rheyannmagcalas\\anaconda3\\lib\\site-packages (from fastparquet) (2022.2.0)\n",
      "Collecting cramjam>=2.3.0\n",
      "  Downloading cramjam-2.5.0-cp39-none-win_amd64.whl (993 kB)\n",
      "     ------------------------------------- 993.4/993.4 kB 61.4 MB/s eta 0:00:00\n",
      "Requirement already satisfied: pytz>=2020.1 in c:\\users\\rheyannmagcalas\\appdata\\roaming\\python\\python39\\site-packages (from pandas>=1.1.0->fastparquet) (2022.1)\n",
      "Requirement already satisfied: python-dateutil>=2.8.1 in c:\\users\\rheyannmagcalas\\anaconda3\\lib\\site-packages (from pandas>=1.1.0->fastparquet) (2.8.2)\n",
      "Requirement already satisfied: six>=1.5 in c:\\users\\rheyannmagcalas\\anaconda3\\lib\\site-packages (from python-dateutil>=2.8.1->pandas>=1.1.0->fastparquet) (1.16.0)\n",
      "Installing collected packages: cramjam, fastparquet\n",
      "Successfully installed cramjam-2.5.0 fastparquet-0.8.1\n"
     ]
    }
   ],
   "source": [
    "!pip install fastparquet "
   ]
  },
  {
   "cell_type": "code",
   "execution_count": 47,
   "id": "64d831c7",
   "metadata": {},
   "outputs": [],
   "source": [
    "json_data.to_parquet('data/sample.parquet', engine='fastparquet')"
   ]
  }
 ],
 "metadata": {
  "kernelspec": {
   "display_name": "Python 3 (ipykernel)",
   "language": "python",
   "name": "python3"
  },
  "language_info": {
   "codemirror_mode": {
    "name": "ipython",
    "version": 3
   },
   "file_extension": ".py",
   "mimetype": "text/x-python",
   "name": "python",
   "nbconvert_exporter": "python",
   "pygments_lexer": "ipython3",
   "version": "3.9.12"
  }
 },
 "nbformat": 4,
 "nbformat_minor": 5
}
