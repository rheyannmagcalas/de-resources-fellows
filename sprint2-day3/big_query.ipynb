{
 "cells": [
  {
   "cell_type": "code",
   "execution_count": null,
   "id": "acbe833b",
   "metadata": {},
   "outputs": [],
   "source": [
    "!pip install google-api-core[grpc]==2.7.0"
   ]
  },
  {
   "cell_type": "code",
   "execution_count": null,
   "id": "2f4e332b",
   "metadata": {},
   "outputs": [],
   "source": [
    "!pip install google-cloud-bigquery"
   ]
  },
  {
   "cell_type": "code",
   "execution_count": 2,
   "id": "9eab6086",
   "metadata": {},
   "outputs": [],
   "source": [
    "import os\n",
    "from google.cloud import bigquery\n",
    "\n",
    "os.environ['GOOGLE_APPLICATION_CREDENTIALS'] =  r'ServiceKey_GoogleCloud.json'\n",
    "client = bigquery.Client()"
   ]
  },
  {
   "cell_type": "markdown",
   "id": "0b5b7c47",
   "metadata": {},
   "source": [
    "### Query"
   ]
  },
  {
   "cell_type": "code",
   "execution_count": 3,
   "id": "1d052c9c",
   "metadata": {},
   "outputs": [
    {
     "name": "stdout",
     "output_type": "stream",
     "text": [
      "Frances\n",
      "Alice\n",
      "Beatrice\n",
      "Ella\n",
      "Gertrude\n",
      "Josephine\n",
      "Lula\n",
      "Blanche\n",
      "Marjorie\n",
      "Christine\n",
      "Margarita\n",
      "Alta\n",
      "Sara\n",
      "Naomi\n",
      "Sofia\n",
      "Andrea\n",
      "Delfina\n",
      "Dominga\n",
      "Elnora\n",
      "Adele\n",
      "Rafaela\n",
      "Dixie\n",
      "Luisa\n",
      "Bess\n",
      "Ernestine\n",
      "Lorine\n",
      "Patsy\n",
      "Cecelia\n",
      "Enriqueta\n",
      "Lucinda\n",
      "Alyce\n",
      "Oneta\n",
      "Apolonia\n",
      "Gloria\n",
      "Rhoda\n",
      "Buna\n",
      "Maye\n",
      "Pansy\n",
      "Gladys\n",
      "Maria\n",
      "Helen\n",
      "Velma\n",
      "Clara\n",
      "Anna\n",
      "Evelyn\n",
      "Rosa\n",
      "Mae\n",
      "Bernice\n",
      "Stella\n",
      "Vivian\n",
      "Mable\n",
      "Maggie\n",
      "Betty\n",
      "Guadalupe\n",
      "Lorene\n",
      "Susie\n",
      "Sadie\n",
      "Erma\n",
      "Verna\n",
      "Amelia\n",
      "Estelle\n",
      "Nell\n",
      "Margie\n",
      "Celia\n",
      "Lessie\n",
      "Eloise\n",
      "Millie\n",
      "Olga\n",
      "Letha\n",
      "Rachel\n",
      "Luz\n",
      "Gussie\n",
      "Sylvia\n",
      "Aline\n",
      "Barbara\n",
      "Iris\n",
      "Leila\n",
      "Mozelle\n",
      "Simona\n",
      "Catalina\n",
      "Hester\n",
      "Willia\n",
      "Allene\n",
      "Avis\n",
      "George\n",
      "Isabella\n",
      "Polly\n",
      "Syble\n",
      "Teodora\n",
      "Lennie\n",
      "Ricarda\n",
      "Valerie\n",
      "Frances\n",
      "Gertrude\n",
      "Sarah\n",
      "Rosa\n",
      "Lucy\n",
      "Nora\n",
      "Nettie\n",
      "Odessa\n"
     ]
    }
   ],
   "source": [
    "QUERY = (\n",
    "    'SELECT name FROM `bigquery-public-data.usa_names.usa_1910_2013` '\n",
    "    'WHERE state = \"TX\" '\n",
    "    'LIMIT 100')\n",
    "query_job = client.query(QUERY)  \n",
    "rows = query_job.result()  \n",
    "for row in rows:\n",
    "    print(row.name)"
   ]
  },
  {
   "cell_type": "markdown",
   "id": "52dd3b05",
   "metadata": {},
   "source": [
    "### Create Table"
   ]
  },
  {
   "cell_type": "code",
   "execution_count": 8,
   "id": "f62ad07e",
   "metadata": {},
   "outputs": [
    {
     "name": "stdout",
     "output_type": "stream",
     "text": [
      "Created table dogwood-reserve-352205.demo_bq.test\n"
     ]
    }
   ],
   "source": [
    "schema = [\n",
    "    bigquery.SchemaField(\"full_name\", \"STRING\", mode=\"REQUIRED\"),\n",
    "    bigquery.SchemaField(\"age\", \"INTEGER\", mode=\"REQUIRED\"),\n",
    "]\n",
    "\n",
    "\n",
    "table = bigquery.Table(table_id, schema=schema)\n",
    "table = client.create_table(table)  # Make an API request.\n",
    "print(\n",
    "    \"Created table {}.{}.{}\".format(table.project, table.dataset_id, table.table_id)\n",
    ")"
   ]
  },
  {
   "cell_type": "markdown",
   "id": "24207c8d",
   "metadata": {},
   "source": [
    "### Create Table with Partition"
   ]
  },
  {
   "cell_type": "code",
   "execution_count": 11,
   "id": "94bb758a",
   "metadata": {},
   "outputs": [
    {
     "name": "stdout",
     "output_type": "stream",
     "text": [
      "Created table my_partitioned_table, partitioned on column date\n"
     ]
    }
   ],
   "source": [
    "project = client.project\n",
    "\n",
    "dataset_ref = bigquery.DatasetReference(project, 'demo_bq') ### Dataset Name\n",
    "\n",
    "table_ref = dataset_ref.table(\"my_partitioned_table\")  ### Table name\n",
    "schema = [\n",
    "    bigquery.SchemaField(\"name\", \"STRING\"),\n",
    "    bigquery.SchemaField(\"post_abbr\", \"STRING\"),\n",
    "    bigquery.SchemaField(\"date\", \"DATE\"),\n",
    "]\n",
    "table = bigquery.Table(table_ref, schema=schema)\n",
    "table.time_partitioning = bigquery.TimePartitioning(\n",
    "    type_=bigquery.TimePartitioningType.DAY,\n",
    "    field=\"date\", \n",
    "    expiration_ms=7776000000,\n",
    ")  # 90 days\n",
    "\n",
    "table = client.create_table(table)\n",
    "\n",
    "print(\n",
    "    \"Created table {}, partitioned on column {}\".format(\n",
    "        table.table_id, table.time_partitioning.field\n",
    "    )\n",
    ")"
   ]
  },
  {
   "cell_type": "markdown",
   "id": "1aa51ed3",
   "metadata": {},
   "source": [
    "### Create Table with Cluster"
   ]
  },
  {
   "cell_type": "code",
   "execution_count": 12,
   "id": "796166b6",
   "metadata": {},
   "outputs": [
    {
     "name": "stdout",
     "output_type": "stream",
     "text": [
      "Created clustered table dogwood-reserve-352205.demo_bq.test_cluster\n"
     ]
    }
   ],
   "source": [
    "table_id = \"your-project.your_dataset.your_table_name\"\n",
    "\n",
    "\n",
    "schema = [\n",
    "    bigquery.SchemaField(\"full_name\", \"STRING\"),\n",
    "    bigquery.SchemaField(\"city\", \"STRING\"),\n",
    "    bigquery.SchemaField(\"zipcode\", \"INTEGER\"),\n",
    "]\n",
    "\n",
    "table = bigquery.Table(table_id, schema=schema)\n",
    "table.clustering_fields = [\"city\", \"zipcode\"]\n",
    "table = client.create_table(table)  # Make an API request.\n",
    "print(\n",
    "    \"Created clustered table {}.{}.{}\".format(\n",
    "        table.project, table.dataset_id, table.table_id\n",
    "    )\n",
    ")"
   ]
  },
  {
   "cell_type": "markdown",
   "id": "665be605",
   "metadata": {},
   "source": [
    "### Delete a Table"
   ]
  },
  {
   "cell_type": "code",
   "execution_count": 15,
   "id": "70a3130b",
   "metadata": {},
   "outputs": [
    {
     "name": "stdout",
     "output_type": "stream",
     "text": [
      "Deleted table 'dogwood-reserve-352205.demo_bq.shopee'.\n"
     ]
    }
   ],
   "source": [
    "table_id = \"your-project.your_dataset.your_table_name\"\n",
    "client.delete_table(table_id, not_found_ok=True)  # Make an API request.\n",
    "print(\"Deleted table '{}'.\".format(table_id))"
   ]
  },
  {
   "cell_type": "markdown",
   "id": "0381759d",
   "metadata": {},
   "source": [
    "### Bulk Insert\n",
    "\n",
    "* https://cloud.google.com/bigquery/docs/batch-loading-data"
   ]
  },
  {
   "cell_type": "code",
   "execution_count": 14,
   "id": "1a999d26",
   "metadata": {},
   "outputs": [
    {
     "name": "stdout",
     "output_type": "stream",
     "text": [
      "Loaded 891 rows and 12 columns to dogwood-reserve-352205.demo_bq.titanic\n"
     ]
    }
   ],
   "source": [
    "table_id = \"your-project.your_dataset.your_table_name\"\n",
    "file_path = \"titanic.csv\"\n",
    "\n",
    "job_config = bigquery.LoadJobConfig(\n",
    "    source_format=bigquery.SourceFormat.CSV, skip_leading_rows=1, autodetect=True,\n",
    ")\n",
    "\n",
    "with open(file_path, \"rb\") as source_file:\n",
    "    job = client.load_table_from_file(source_file, table_id, job_config=job_config)\n",
    "\n",
    "job.result()  # Waits for the job to complete.\n",
    "\n",
    "table = client.get_table(table_id)  # Make an API request.\n",
    "print(\n",
    "    \"Loaded {} rows and {} columns to {}\".format(\n",
    "        table.num_rows, len(table.schema), table_id\n",
    "    )\n",
    ")"
   ]
  }
 ],
 "metadata": {
  "kernelspec": {
   "display_name": "Python 3 (ipykernel)",
   "language": "python",
   "name": "python3"
  },
  "language_info": {
   "codemirror_mode": {
    "name": "ipython",
    "version": 3
   },
   "file_extension": ".py",
   "mimetype": "text/x-python",
   "name": "python",
   "nbconvert_exporter": "python",
   "pygments_lexer": "ipython3",
   "version": "3.9.12"
  }
 },
 "nbformat": 4,
 "nbformat_minor": 5
}
