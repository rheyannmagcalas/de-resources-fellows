{
 "cells": [
  {
   "cell_type": "markdown",
   "id": "ce05a331",
   "metadata": {},
   "source": [
    "### First Query"
   ]
  },
  {
   "cell_type": "code",
   "execution_count": null,
   "id": "66542d95",
   "metadata": {},
   "outputs": [],
   "source": [
    "WITH matchups AS (\n",
    "SELECT g.win_team_id\n",
    "  , g.lose_team_id\n",
    "  , (SELECT win_masc.tax_family FROM `basketball.mascots` win_masc WHERE win_masc.id = g.win_team_id) AS tax_family_winner\n",
    "  , (SELECT win_masc.tax_genus FROM `basketball.mascots` win_masc WHERE win_masc.id = g.win_team_id) AS tax_genus_winner\n",
    "  , (SELECT lose_masc.tax_family FROM `basketball.mascots` lose_masc WHERE lose_masc.id = g.lose_team_id) AS tax_family_loser\n",
    "  , (SELECT lose_masc.tax_genus FROM `basketball.mascots` lose_masc WHERE lose_masc.id = g.lose_team_id) AS tax_genus_loser\n",
    "FROM `bigquery-public-data.ncaa_basketball.mbb_historical_tournament_games` g\n",
    ")\n",
    "SELECT\n",
    "  SUM(IF(tax_family_winner = \"Felidae\" AND tax_genus_loser = \"Canis\", 1, 0)) AS num_cat_wins,\n",
    "  SUM(IF(tax_genus_winner = \"Canis\" AND tax_family_loser = \"Felidae\", 1, 0)) AS num_dog_wins\n",
    "FROM matchups;"
   ]
  },
  {
   "cell_type": "markdown",
   "id": "2621d5cf",
   "metadata": {},
   "source": [
    "## Semi-Structured Queries\n",
    "\n",
    "### Array"
   ]
  },
  {
   "cell_type": "code",
   "execution_count": null,
   "id": "eb195fdf",
   "metadata": {},
   "outputs": [],
   "source": [
    "SELECT ARRAY<STRING> \n",
    "['raspberry', 'blackberry', 'strawberry', 'cherry'] \n",
    "AS fruit_array;"
   ]
  },
  {
   "cell_type": "markdown",
   "id": "6febca6f",
   "metadata": {},
   "source": [
    "#### OFFSET"
   ]
  },
  {
   "cell_type": "code",
   "execution_count": null,
   "id": "c8bfaea8",
   "metadata": {},
   "outputs": [],
   "source": [
    "WITH fruits AS(\n",
    "  SELECT ARRAY<STRING> \n",
    "  ['raspberry', 'blackberry', 'strawberry', 'cherry'] \n",
    "  AS fruit_array\n",
    ")\n",
    "SELECT fruit_array[OFFSET(2)]\n",
    "AS zero_indexed\n",
    "FROM fruits;"
   ]
  },
  {
   "cell_type": "markdown",
   "id": "bcdf209f",
   "metadata": {},
   "source": [
    "#### ORDINAL"
   ]
  },
  {
   "cell_type": "code",
   "execution_count": null,
   "id": "44a6e856",
   "metadata": {},
   "outputs": [],
   "source": [
    "WITH fruits AS(\n",
    "  SELECT ARRAY<STRING> \n",
    "  ['raspberry', 'blackberry', 'strawberry', 'cherry'] \n",
    "  AS fruit_array\n",
    ")\n",
    "SELECT fruit_array[ORDINAL(2)]\n",
    "AS zero_indexed\n",
    "FROM fruits;"
   ]
  },
  {
   "cell_type": "markdown",
   "id": "5c3bb9c9",
   "metadata": {},
   "source": [
    "#### OUTSIDE INDEX"
   ]
  },
  {
   "cell_type": "code",
   "execution_count": null,
   "id": "36fbcf46",
   "metadata": {},
   "outputs": [],
   "source": [
    "WITH fruits AS(\n",
    "  SELECT ARRAY<STRING> \n",
    "  ['raspberry', 'blackberry', 'strawberry', 'cherry'] \n",
    "  AS fruit_array\n",
    ")\n",
    "SELECT fruit_array[ORDINAL(999)]\n",
    "AS zero_indexed\n",
    "FROM fruits;"
   ]
  },
  {
   "cell_type": "markdown",
   "id": "52a7ef85",
   "metadata": {},
   "source": [
    "#### Array Length"
   ]
  },
  {
   "cell_type": "code",
   "execution_count": null,
   "id": "7d2f841d",
   "metadata": {},
   "outputs": [],
   "source": [
    "WITH fruits AS(\n",
    "  SELECT ARRAY<STRING> \n",
    "  ['raspberry', 'blackberry', 'strawberry', 'cherry'] \n",
    "  AS fruit_array\n",
    ")\n",
    "SELECT ARRAY_LENGTH(fruit_array)\n",
    "AS array_size\n",
    "FROM fruits;"
   ]
  },
  {
   "cell_type": "markdown",
   "id": "869c9351",
   "metadata": {},
   "source": [
    "#### UNFLATTEN ARRAY"
   ]
  },
  {
   "cell_type": "code",
   "execution_count": null,
   "id": "3922e7a2",
   "metadata": {},
   "outputs": [],
   "source": [
    "SELECT \n",
    "['apple', 'pear', 'plum'] as item, \n",
    "'Jacob' AS customer;"
   ]
  },
  {
   "cell_type": "markdown",
   "id": "044f96d6",
   "metadata": {},
   "source": [
    "#### Flatten Array: UNNEST"
   ]
  },
  {
   "cell_type": "code",
   "execution_count": null,
   "id": "d6330245",
   "metadata": {},
   "outputs": [],
   "source": [
    "SELECT items, customer_name\n",
    "FROM \n",
    "  UNNEST(['apple', 'pear', 'peach']) AS ITEMS\n",
    "CROSS JOIN\n",
    "(SELECT 'Jacob' AS customer_name);"
   ]
  },
  {
   "cell_type": "markdown",
   "id": "267faf28",
   "metadata": {},
   "source": [
    "#### Get order of the array element"
   ]
  },
  {
   "cell_type": "code",
   "execution_count": null,
   "id": "adf3087a",
   "metadata": {},
   "outputs": [],
   "source": [
    "SELECT index, items\n",
    "FROM \n",
    "  UNNEST(['apple', 'pear', 'peach']) AS ITEMS\n",
    "WITH OFFSET AS INDEX\n",
    "ORDER BY INDEX;"
   ]
  },
  {
   "cell_type": "markdown",
   "id": "42731f3a",
   "metadata": {},
   "source": [
    "#### Create Array"
   ]
  },
  {
   "cell_type": "code",
   "execution_count": null,
   "id": "2d140082",
   "metadata": {},
   "outputs": [],
   "source": [
    "SELECT ARRAY(\n",
    "    SELECT 'apple' AS fruit UNION ALL\n",
    "    SELECT 'pear' AS fruit UNION ALL\n",
    "    SELECT 'banana' AS fruit \n",
    ")\n",
    "AS fruit_basket;"
   ]
  },
  {
   "cell_type": "markdown",
   "id": "4409089f",
   "metadata": {},
   "source": [
    "#### Create Array with order"
   ]
  },
  {
   "cell_type": "code",
   "execution_count": null,
   "id": "3145903b",
   "metadata": {},
   "outputs": [],
   "source": [
    "SELECT ARRAY(\n",
    "    SELECT 'apple' AS fruit UNION ALL\n",
    "    SELECT 'pear' AS fruit UNION ALL\n",
    "    SELECT 'banana' AS fruit \n",
    "    ORDER BY fruit\n",
    ")\n",
    "AS fruit_basket;"
   ]
  },
  {
   "cell_type": "markdown",
   "id": "3bc79540",
   "metadata": {},
   "source": [
    "#### Filter Data inside array items"
   ]
  },
  {
   "cell_type": "code",
   "execution_count": null,
   "id": "bc2d80f5",
   "metadata": {},
   "outputs": [],
   "source": [
    "WITH groceries AS \n",
    "(SELECT ['apple', 'pear', 'banana'] AS list\n",
    "UNION ALL SELECT ['carrot', 'apple'] AS list\n",
    "UNION ALL SELECT ['water', 'wine'] AS list)\n",
    "\n",
    "SELECT ARRAY(\n",
    "  SELECT list_items\n",
    "  FROM UNNEST(list) as list_items\n",
    "  WHERE 'apple' IN UNNEST(list)\n",
    ")\n",
    "FROM groceries;"
   ]
  },
  {
   "cell_type": "markdown",
   "id": "64f0cfb4",
   "metadata": {},
   "source": [
    "### Struct: the container"
   ]
  },
  {
   "cell_type": "code",
   "execution_count": null,
   "id": "dd04c1bb",
   "metadata": {},
   "outputs": [],
   "source": [
    "SELECT STRUCT<int64, STRING>(35, 'Jacob');"
   ]
  },
  {
   "cell_type": "code",
   "execution_count": null,
   "id": "976b1117",
   "metadata": {},
   "outputs": [],
   "source": [
    "SELECT STRUCT<int64, STRING>(35, 'Jacob')\n",
    "AS CUSTOMERS;"
   ]
  },
  {
   "cell_type": "markdown",
   "id": "3477124f",
   "metadata": {},
   "source": [
    "#### Struct with array"
   ]
  },
  {
   "cell_type": "code",
   "execution_count": null,
   "id": "f584f1f5",
   "metadata": {},
   "outputs": [],
   "source": [
    "SELECT STRUCT(35 AS age, 'Jacob' AS name, ['apple', 'pear', 'peach'] AS items)\n",
    "AS customers;"
   ]
  },
  {
   "cell_type": "code",
   "execution_count": null,
   "id": "e823442d",
   "metadata": {},
   "outputs": [],
   "source": [
    "SELECT ARRAY(\n",
    "  SELECT STRUCT(35 AS age, 'Jacob' AS name, ['apple', 'pear', 'peach'] AS items)\n",
    "  UNION ALL\n",
    "  SELECT STRUCT(33 AS age, 'Miranda' AS name, ['water', 'pineapple', 'ice cream'] AS items)\n",
    ")"
   ]
  },
  {
   "cell_type": "markdown",
   "id": "d94b9258",
   "metadata": {},
   "source": [
    "### Nested Fields"
   ]
  },
  {
   "cell_type": "code",
   "execution_count": null,
   "id": "53aba157",
   "metadata": {},
   "outputs": [],
   "source": [
    "[\n",
    "  {\"name\": \"id\", \"type\": \"INTEGER\", \"mode\": \"REQUIRED\"},\n",
    "  {\"name\": \"time\", \"type\": \"TIMESTAMP\", \"mode\": \"REQUIRED\"},\n",
    "  {\"name\": \"customer\", \"type\": \"RECORD\", \"fields\":\n",
    "    [\n",
    "      {\"name\": \"id\", \"type\": \"INTEGER\", \"mode\": \"REQUIRED\"},\n",
    "      {\"name\": \"name\",  \"type\": \"STRING\", \"mode\": \"REQUIRED\"},\n",
    "      {\"name\": \"location\",  \"type\": \"STRING\"}\n",
    "    ]\n",
    "  }\n",
    "]"
   ]
  },
  {
   "cell_type": "code",
   "execution_count": null,
   "id": "bbe73735",
   "metadata": {},
   "outputs": [],
   "source": [
    "WITH transactions AS\n",
    "(\n",
    "  SELECT \n",
    "    1000001 AS id,\t\n",
    "    TIMESTAMP('2017-12-18 15:02:00') AS time,\t\n",
    "    STRUCT(65401 AS id,\t'John Doe' AS name,\t'Faraway' AS location) AS customer\n",
    "  UNION ALL \n",
    "  SELECT \n",
    "    1000002, \n",
    "    TIMESTAMP('2017-12-16 11:34:00'), \n",
    "    STRUCT(74682, 'Jane Michaels', 'Nearland')\n",
    ")\n",
    "SELECT *\n",
    "FROM transactions;"
   ]
  },
  {
   "cell_type": "markdown",
   "id": "c12f4960",
   "metadata": {},
   "source": [
    "### Repeated Fields"
   ]
  },
  {
   "cell_type": "code",
   "execution_count": null,
   "id": "268c10db",
   "metadata": {},
   "outputs": [],
   "source": [
    "[\n",
    "  {\"name\": \"id\", \"type\": \"INTEGER\", \"mode\": \"REQUIRED\"},\n",
    "  {\"name\": \"time\", \"type\": \"TIMESTAMP\", \"mode\": \"REQUIRED\"},\n",
    "  {\"name\": \"product\", \"type\": \"RECORD\", \"mode\": \"REPEATED\", \"fields\":\n",
    "    [\n",
    "      {\"name\": \"sku\", \"type\": \"STRING\", \"mode\": \"REQUIRED\"},\n",
    "      {\"name\": \"description\",  \"type\": \"STRING\"},\n",
    "      {\"name\": \"quantity\",  \"type\": \"INTEGER\"},\n",
    "      {\"name\": \"price\",  \"type\": \"FLOAT\", \"mode\": \"REQUIRED\"}\n",
    "    ]\n",
    "  }\n",
    "]"
   ]
  },
  {
   "cell_type": "markdown",
   "id": "60e1ac3b",
   "metadata": {},
   "source": [
    "#### Unflatten"
   ]
  },
  {
   "cell_type": "code",
   "execution_count": null,
   "id": "6f209895",
   "metadata": {},
   "outputs": [],
   "source": [
    "WITH transactions AS\n",
    "(\n",
    "  SELECT\n",
    "    1000001 AS id,\n",
    "    TIMESTAMP('2017-12-18 15:02:00') AS time,\n",
    "    [ \n",
    "      STRUCT('ABC123456' AS sku, 'furniture' AS description, 3 AS quantity, 36.3 AS price),\n",
    "      STRUCT('TBL535522' AS sku, 'table' AS description, 6 AS quantity, 878.4 AS price),\n",
    "      STRUCT('CHR762222' AS sku, 'chair' AS description, 4 AS quantity, 435.6 AS price)\n",
    "    ] AS product\n",
    "  UNION ALL\n",
    "  SELECT\n",
    "    1000002,\n",
    "    TIMESTAMP('2017-12-16 11:34:00'),\n",
    "    [\n",
    "      STRUCT('GCH635354', 'Chair', 4, 345.7),\n",
    "      STRUCT('GRD828822', 'Gardening', 2,9.5) \n",
    "    ] \n",
    ")\n",
    "SELECT * from transactions;"
   ]
  },
  {
   "cell_type": "markdown",
   "id": "3ac40688",
   "metadata": {},
   "source": [
    "#### Flatten"
   ]
  },
  {
   "cell_type": "code",
   "execution_count": null,
   "id": "eb55252b",
   "metadata": {},
   "outputs": [],
   "source": [
    "WITH transactions AS\n",
    "(\n",
    "  SELECT\n",
    "    1000001 AS id,\n",
    "    TIMESTAMP('2017-12-18 15:02:00') AS time,\n",
    "    [ \n",
    "      STRUCT('ABC123456' AS sku, 'furniture' AS description, 3 AS quantity, 36.3 AS price),\n",
    "      STRUCT('TBL535522' AS sku, 'table' AS description, 6 AS quantity, 878.4 AS price),\n",
    "      STRUCT('CHR762222' AS sku, 'chair' AS description, 4 AS quantity, 435.6 AS price)\n",
    "    ] AS product\n",
    "  UNION ALL\n",
    "  SELECT\n",
    "    1000002,\n",
    "    TIMESTAMP('2017-12-16 11:34:00'),\n",
    "    [\n",
    "      STRUCT('GCH635354', 'Chair', 4, 345.7),\n",
    "      STRUCT('GRD828822', 'Gardening', 2,9.5) \n",
    "    ] \n",
    ")\n",
    "SELECT\n",
    "  id, items.*\n",
    "FROM transactions, \n",
    "  UNNEST(product) AS items;"
   ]
  },
  {
   "cell_type": "markdown",
   "id": "cfb20adc",
   "metadata": {},
   "source": [
    "### Nested Repeated Fields"
   ]
  },
  {
   "cell_type": "code",
   "execution_count": null,
   "id": "975b5d0a",
   "metadata": {},
   "outputs": [],
   "source": [
    "[\n",
    "  {\"name\": \"id\", \"type\": \"INTEGER\", \"mode\": \"REQUIRED\"},\n",
    "  {\"name\": \"time\", \"type\": \"TIMESTAMP\", \"mode\": \"REQUIRED\"},\n",
    "  {\"name\": \"customer\", \"type\": \"RECORD\", \"fields\":\n",
    "    [\n",
    "      {\"name\": \"id\", \"type\": \"INTEGER\", \"mode\": \"REQUIRED\"},\n",
    "      {\"name\": \"name\",  \"type\": \"STRING\", \"mode\": \"REQUIRED\"},\n",
    "      {\"name\": \"location\",  \"type\": \"STRING\"}\n",
    "    ]\n",
    "  },\n",
    "  {\"name\": \"product\", \"type\": \"RECORD\", \"mode\": \"REPEATED\", \"fields\":\n",
    "      [\n",
    "        {\"name\": \"sku\", \"type\": \"STRING\", \"mode\": \"REQUIRED\"},\n",
    "        {\"name\": \"description\",  \"type\": \"STRING\"},\n",
    "        {\"name\": \"quantity\",  \"type\": \"INTEGER\"},\n",
    "        {\"name\": \"price\",  \"type\": \"FLOAT\", \"mode\": \"REQUIRED\"}\n",
    "      ]\n",
    "    }\n",
    "]"
   ]
  },
  {
   "cell_type": "markdown",
   "id": "cd9f40f4",
   "metadata": {},
   "source": [
    "#### Unflatten"
   ]
  },
  {
   "cell_type": "code",
   "execution_count": null,
   "id": "8ebe7ce0",
   "metadata": {},
   "outputs": [],
   "source": [
    "WITH transactions AS (\n",
    "  SELECT 1000001 AS order_id, TIMESTAMP('2017-12-18 15:02:00') AS order_time,\n",
    "          STRUCT(65401 AS id,\t'John Doe' AS name,\t'Faraway' AS location) AS customer, \n",
    "          [\n",
    "            STRUCT('ABC123456' AS sku, 3 AS quantity, 36.3 AS price),\n",
    "            STRUCT('TBL535522' AS sku, 6 AS quantity, 878.4 AS price),\n",
    "            STRUCT('CHR762222' AS sku, 4 AS quantity, 435.6 AS price)\n",
    "          ] AS orders\n",
    "  UNION ALL \n",
    "  SELECT 1000002, TIMESTAMP('2017-12-16 11:34:00'), \n",
    "        STRUCT(74682, 'Jane Michaels', 'Nearland') AS customer,\n",
    "        [\n",
    "            STRUCT('GCH635354',   4,      345.7),\n",
    "            STRUCT('GRD828822', 2,      9.5)\n",
    "        ] AS orders\n",
    ")\n",
    "SELECT * from transactions;"
   ]
  },
  {
   "cell_type": "markdown",
   "id": "4436f71a",
   "metadata": {},
   "source": [
    "#### Flatten"
   ]
  },
  {
   "cell_type": "code",
   "execution_count": null,
   "id": "c5769bc7",
   "metadata": {},
   "outputs": [],
   "source": [
    "WITH transactions AS (\n",
    "  SELECT 1000001 AS order_id, TIMESTAMP('2017-12-18 15:02:00') AS order_time,\n",
    "          STRUCT(65401 AS id,\t'John Doe' AS name,\t'Faraway' AS location) AS customer, \n",
    "          [\n",
    "            STRUCT('ABC123456' AS sku, 3 AS quantity, 36.3 AS price),\n",
    "            STRUCT('TBL535522' AS sku, 6 AS quantity, 878.4 AS price),\n",
    "            STRUCT('CHR762222' AS sku, 4 AS quantity, 435.6 AS price)\n",
    "          ] AS orders\n",
    "  UNION ALL \n",
    "  SELECT 1000002, TIMESTAMP('2017-12-16 11:34:00'), \n",
    "        STRUCT(74682, 'Jane Michaels', 'Nearland') AS customer,\n",
    "        [\n",
    "            STRUCT('GCH635354',   4,      345.7),\n",
    "            STRUCT('GRD828822', 2,      9.5)\n",
    "        ] AS orders\n",
    ")\n",
    "SELECT \n",
    "  t.order_id,\n",
    "  t.customer.name,\n",
    "  SUM(orders.price) AS total_purchased\n",
    "FROM transactions AS t, UNNEST(orders) AS orders\n",
    "GROUP BY t.order_id, t.customer.name"
   ]
  }
 ],
 "metadata": {
  "kernelspec": {
   "display_name": "Python 3 (ipykernel)",
   "language": "python",
   "name": "python3"
  },
  "language_info": {
   "codemirror_mode": {
    "name": "ipython",
    "version": 3
   },
   "file_extension": ".py",
   "mimetype": "text/x-python",
   "name": "python",
   "nbconvert_exporter": "python",
   "pygments_lexer": "ipython3",
   "version": "3.9.12"
  }
 },
 "nbformat": 4,
 "nbformat_minor": 5
}
