{
 "cells": [
  {
   "cell_type": "code",
   "execution_count": null,
   "id": "f2ab0929",
   "metadata": {},
   "outputs": [],
   "source": [
    "import configparser\n",
    "import pandas as pd\n",
    "\n",
    "from sqlalchemy import create_engine"
   ]
  },
  {
   "cell_type": "code",
   "execution_count": null,
   "id": "d061c513",
   "metadata": {},
   "outputs": [],
   "source": [
    "config = configparser.ConfigParser()\n",
    "config.read('config.ini')"
   ]
  },
  {
   "cell_type": "code",
   "execution_count": null,
   "id": "36282d5e",
   "metadata": {},
   "outputs": [],
   "source": [
    "url = config['DATABASE']['URL']\n",
    "username = config['DATABASE']['USERNAME']\n",
    "password = config['DATABASE']['PASSWORD']"
   ]
  },
  {
   "cell_type": "code",
   "execution_count": null,
   "id": "bd0e9df2",
   "metadata": {},
   "outputs": [],
   "source": [
    "data = pd.read_csv('titanic.csv')"
   ]
  },
  {
   "cell_type": "code",
   "execution_count": null,
   "id": "d76ad928",
   "metadata": {},
   "outputs": [],
   "source": [
    "!pip install pymysql"
   ]
  },
  {
   "cell_type": "markdown",
   "id": "26cc016d",
   "metadata": {},
   "source": [
    "### Using Select\n",
    "\n",
    "#### Select operation is used to fetch a required piece of information from the given data."
   ]
  },
  {
   "cell_type": "code",
   "execution_count": null,
   "id": "9db3c5c5",
   "metadata": {},
   "outputs": [],
   "source": [
    "db_connection_str = f'mysql+pymysql://{username}:{password}@{url}/sys'\n",
    "db_connection = create_engine(db_connection_str)\n",
    "overall_df = pd.read_sql('SELECT * FROM titanic_csv', con=db_connection)\n",
    "db_connection.dispose() \n",
    "overall_df"
   ]
  },
  {
   "cell_type": "markdown",
   "id": "f771e448",
   "metadata": {},
   "source": [
    "#### Note: Avoid using * if you don't need to get the all the information"
   ]
  },
  {
   "cell_type": "code",
   "execution_count": null,
   "id": "514456f5",
   "metadata": {},
   "outputs": [],
   "source": [
    "db_connection = create_engine(db_connection_str)\n",
    "df = pd.read_sql('SELECT Name, Sex FROM titanic_csv', con=db_connection)\n",
    "db_connection.dispose() \n",
    "df"
   ]
  },
  {
   "cell_type": "markdown",
   "id": "e53222a4",
   "metadata": {},
   "source": [
    "### ALIAS or RENAMING A COLUMN"
   ]
  },
  {
   "cell_type": "code",
   "execution_count": null,
   "id": "9bb0d5e3",
   "metadata": {},
   "outputs": [],
   "source": [
    "db_connection = create_engine(db_connection_str)\n",
    "df = pd.read_sql('SELECT Name, Sex as \"Gender\" FROM titanic_csv', con=db_connection)\n",
    "db_connection.dispose() \n",
    "df"
   ]
  },
  {
   "cell_type": "markdown",
   "id": "e1c712d5",
   "metadata": {},
   "source": [
    "### Question:  Rename Pclass to Passenger Class"
   ]
  },
  {
   "cell_type": "markdown",
   "id": "83aaa4b5",
   "metadata": {},
   "source": [
    "### Concat"
   ]
  },
  {
   "cell_type": "code",
   "execution_count": null,
   "id": "a69ba5c3",
   "metadata": {},
   "outputs": [],
   "source": [
    "db_connection = create_engine(db_connection_str)\n",
    "df = pd.read_sql('SELECT concat(Ticket, \"-\", Fare) as \"Ticket Fare\" FROM titanic_csv', con=db_connection)\n",
    "db_connection.dispose() \n",
    "df"
   ]
  },
  {
   "cell_type": "markdown",
   "id": "34975933",
   "metadata": {},
   "source": [
    "### Question: concat Passenger Class and age"
   ]
  },
  {
   "cell_type": "markdown",
   "id": "d1cd9632",
   "metadata": {},
   "source": [
    "### UPPER, LOWER"
   ]
  },
  {
   "cell_type": "code",
   "execution_count": null,
   "id": "292d4a4b",
   "metadata": {},
   "outputs": [],
   "source": [
    "db_connection = create_engine(db_connection_str)\n",
    "df = pd.read_sql('SELECT upper(NAME), lower(NAME) FROM titanic_csv', con=db_connection)\n",
    "db_connection.dispose() \n",
    "df"
   ]
  },
  {
   "cell_type": "markdown",
   "id": "4a2f137b",
   "metadata": {},
   "source": [
    "### Length"
   ]
  },
  {
   "cell_type": "code",
   "execution_count": null,
   "id": "14f808b2",
   "metadata": {},
   "outputs": [],
   "source": [
    "db_connection = create_engine(db_connection_str)\n",
    "df = pd.read_sql('SELECT length(NAME) as \"NAME LENGTH\", NAME FROM titanic_csv', con=db_connection)\n",
    "db_connection.dispose() \n",
    "df"
   ]
  },
  {
   "cell_type": "markdown",
   "id": "59e6636e",
   "metadata": {},
   "source": [
    "### DISTINCT"
   ]
  },
  {
   "cell_type": "code",
   "execution_count": null,
   "id": "565cc0a8",
   "metadata": {},
   "outputs": [],
   "source": [
    "db_connection = create_engine(db_connection_str)\n",
    "df = pd.read_sql('SELECT DISTINCT(Embarked) FROM titanic_csv', con=db_connection)\n",
    "db_connection.dispose() \n",
    "df"
   ]
  },
  {
   "cell_type": "markdown",
   "id": "47c2e8cc",
   "metadata": {},
   "source": [
    "### Question get distinct pclass"
   ]
  },
  {
   "cell_type": "markdown",
   "id": "e3258baa",
   "metadata": {},
   "source": [
    "### WHERE\n",
    "#### This is a conditional operation we mostly use to find data values from the data that follows some condition. \n",
    "\n",
    "#### Available Operators:\n",
    "* =\n",
    "* >,>=, <,<=\n",
    "* BETWEEN \n",
    "* IN\n",
    "* LIKE"
   ]
  },
  {
   "cell_type": "code",
   "execution_count": null,
   "id": "289d51b7",
   "metadata": {},
   "outputs": [],
   "source": [
    "db_connection = create_engine(db_connection_str)\n",
    "df = pd.read_sql('SELECT NAME FROM titanic_csv where sex=\"MALE\"', con=db_connection)\n",
    "db_connection.dispose() \n",
    "df"
   ]
  },
  {
   "cell_type": "markdown",
   "id": "8909db3c",
   "metadata": {},
   "source": [
    "### Question get passengers with embarked type c"
   ]
  },
  {
   "cell_type": "code",
   "execution_count": null,
   "id": "6eed45f2",
   "metadata": {},
   "outputs": [],
   "source": [
    "db_connection = create_engine(db_connection_str)\n",
    "df = pd.read_sql('SELECT NAME, embarked FROM titanic_csv where embarked=\"C\"', con=db_connection)\n",
    "db_connection.dispose() \n",
    "df.head()"
   ]
  },
  {
   "cell_type": "markdown",
   "id": "51b21d16",
   "metadata": {},
   "source": [
    "### NOT NULL and NULL, AND OR"
   ]
  },
  {
   "cell_type": "code",
   "execution_count": null,
   "id": "5970f7da",
   "metadata": {},
   "outputs": [],
   "source": [
    "db_connection = create_engine(db_connection_str)\n",
    "df = pd.read_sql('SELECT DISTINCT(TRIM(Embarked)) as \"Embarked\" FROM titanic_csv where Embarked is NOT NULL and length(Embarked) > 0', con=db_connection)\n",
    "db_connection.dispose() \n",
    "df"
   ]
  },
  {
   "cell_type": "code",
   "execution_count": null,
   "id": "1337d1d9",
   "metadata": {},
   "outputs": [],
   "source": [
    "db_connection = create_engine(db_connection_str)\n",
    "df = pd.read_sql('SELECT DISTINCT(TRIM(Embarked)) as \"Embarked\"  FROM titanic_csv where Embarked is NULL OR length(Embarked) < 1', con=db_connection)\n",
    "db_connection.dispose() \n",
    "df"
   ]
  },
  {
   "cell_type": "markdown",
   "id": "a3c4886e",
   "metadata": {},
   "source": [
    "### Greater than, Less than"
   ]
  },
  {
   "cell_type": "code",
   "execution_count": null,
   "id": "1fc9e9ab",
   "metadata": {},
   "outputs": [],
   "source": [
    "db_connection = create_engine(db_connection_str)\n",
    "df = pd.read_sql('SELECT NAME, FARE FROM titanic_csv where Fare > 53', con=db_connection)\n",
    "db_connection.dispose() \n",
    "df.head()"
   ]
  },
  {
   "cell_type": "markdown",
   "id": "52c65b2a",
   "metadata": {},
   "source": [
    "### Question: Get passengers with age less than 10"
   ]
  },
  {
   "cell_type": "code",
   "execution_count": null,
   "id": "26033611",
   "metadata": {},
   "outputs": [],
   "source": [
    "db_connection = create_engine(db_connection_str)\n",
    "df = pd.read_sql('SELECT NAME, AGE FROM titanic_csv where Age < 10', con=db_connection)\n",
    "db_connection.dispose() \n",
    "df.head()"
   ]
  },
  {
   "cell_type": "markdown",
   "id": "4f28d2dc",
   "metadata": {},
   "source": [
    "### BETWEEN"
   ]
  },
  {
   "cell_type": "code",
   "execution_count": null,
   "id": "68ef30d1",
   "metadata": {},
   "outputs": [],
   "source": [
    "db_connection = create_engine(db_connection_str)\n",
    "df = pd.read_sql('SELECT NAME, FARE FROM titanic_csv where Fare BETWEEN 53 AND 100', con=db_connection)\n",
    "db_connection.dispose() \n",
    "df.head()"
   ]
  },
  {
   "cell_type": "markdown",
   "id": "2613b4b7",
   "metadata": {},
   "source": [
    "### Question: get passengers with age between 1 to 18"
   ]
  },
  {
   "cell_type": "code",
   "execution_count": null,
   "id": "a87add8a",
   "metadata": {},
   "outputs": [],
   "source": [
    "db_connection = create_engine(db_connection_str)\n",
    "df = pd.read_sql('SELECT NAME, Age FROM titanic_csv where Age BETWEEN 1 AND 18', con=db_connection)\n",
    "db_connection.dispose() \n",
    "df.head()"
   ]
  },
  {
   "cell_type": "markdown",
   "id": "ac11856e",
   "metadata": {},
   "source": [
    "### IN"
   ]
  },
  {
   "cell_type": "code",
   "execution_count": null,
   "id": "d3e70d22",
   "metadata": {},
   "outputs": [],
   "source": [
    "db_connection = create_engine(db_connection_str)\n",
    "df = pd.read_sql('SELECT NAME, FARE FROM titanic_csv where Fare IN (\"S\", \"C\", \"Q\")', con=db_connection)\n",
    "db_connection.dispose() \n",
    "df.head()"
   ]
  },
  {
   "cell_type": "code",
   "execution_count": null,
   "id": "b67fcc07",
   "metadata": {},
   "outputs": [],
   "source": [
    "db_connection = create_engine(db_connection_str)\n",
    "df = pd.read_sql('''SELECT NAME, FARE FROM titanic_csv where Fare IN (\n",
    "                SELECT DISTINCT(Embarked) FROM titanic_csv where Embarked is NOT NULL and length(Embarked) > 0\n",
    "                )''', con=db_connection)\n",
    "db_connection.dispose() \n",
    "df.head()"
   ]
  },
  {
   "cell_type": "markdown",
   "id": "f2f52ede",
   "metadata": {},
   "source": [
    "### Question: get all pasengers on SibSp 4, 3 and 2"
   ]
  },
  {
   "cell_type": "code",
   "execution_count": null,
   "id": "50e23465",
   "metadata": {},
   "outputs": [],
   "source": [
    "db_connection = create_engine(db_connection_str)\n",
    "df = pd.read_sql('SELECT NAME, Age, SibSp FROM titanic_csv where SibSp IN (4, 3, 2)', con=db_connection)\n",
    "db_connection.dispose() \n",
    "df.head()"
   ]
  },
  {
   "cell_type": "markdown",
   "id": "e4f00572",
   "metadata": {},
   "source": [
    "### LIKE"
   ]
  },
  {
   "cell_type": "markdown",
   "id": "7def3808",
   "metadata": {},
   "source": [
    "##### Startswith"
   ]
  },
  {
   "cell_type": "code",
   "execution_count": null,
   "id": "f518c868",
   "metadata": {},
   "outputs": [],
   "source": [
    "db_connection = create_engine(db_connection_str)\n",
    "df = pd.read_sql(\"SELECT NAME, FARE FROM titanic_csv WHERE Name LIKE 'Leonard%%'\", con=db_connection)\n",
    "db_connection.dispose() \n",
    "df.head()"
   ]
  },
  {
   "cell_type": "markdown",
   "id": "daacaef5",
   "metadata": {},
   "source": [
    "#### Endswith"
   ]
  },
  {
   "cell_type": "code",
   "execution_count": null,
   "id": "8e531673",
   "metadata": {},
   "outputs": [],
   "source": [
    "db_connection = create_engine(db_connection_str)\n",
    "df = pd.read_sql(\"SELECT NAME, FARE FROM titanic_csv WHERE Name LIKE '%%Joseph'\", con=db_connection)\n",
    "db_connection.dispose() \n",
    "df.head()"
   ]
  },
  {
   "cell_type": "markdown",
   "id": "8450deef",
   "metadata": {},
   "source": [
    "#### Anything with"
   ]
  },
  {
   "cell_type": "code",
   "execution_count": null,
   "id": "68d9108c",
   "metadata": {},
   "outputs": [],
   "source": [
    "db_connection = create_engine(db_connection_str)\n",
    "df = pd.read_sql(\"SELECT NAME, FARE FROM titanic_csv WHERE Name LIKE '%%Edgar%%'\", con=db_connection)\n",
    "db_connection.dispose() \n",
    "df.head()"
   ]
  },
  {
   "cell_type": "markdown",
   "id": "d0a454ae",
   "metadata": {},
   "source": [
    "### Case When"
   ]
  },
  {
   "cell_type": "code",
   "execution_count": null,
   "id": "e5864ef0",
   "metadata": {},
   "outputs": [],
   "source": [
    "db_connection = create_engine(db_connection_str)\n",
    "df = pd.read_sql(\"\"\"\n",
    "SELECT CASE\n",
    "    WHEN fare < 100  THEN \"Upper\"\n",
    "    WHEN fare BETWEEN 50 and 100 THEN \"Middle\"\n",
    "    ELSE \"Lower\"\n",
    "END AS 'fare_category'\n",
    "FROM titanic_csv \n",
    "\"\"\", con=db_connection)\n",
    "db_connection.dispose() \n",
    "df.head()"
   ]
  },
  {
   "cell_type": "markdown",
   "id": "0a0702ef",
   "metadata": {},
   "source": [
    "### ORDER BY"
   ]
  },
  {
   "cell_type": "code",
   "execution_count": null,
   "id": "b9fe2f8e",
   "metadata": {},
   "outputs": [],
   "source": [
    "db_connection = create_engine(db_connection_str)\n",
    "df = pd.read_sql(\"SELECT NAME, FARE FROM titanic_csv ORDER BY FARE\", con=db_connection)\n",
    "db_connection.dispose() \n",
    "df.head()"
   ]
  },
  {
   "cell_type": "code",
   "execution_count": null,
   "id": "89205c7e",
   "metadata": {},
   "outputs": [],
   "source": [
    "db_connection = create_engine(db_connection_str)\n",
    "df = pd.read_sql(\"SELECT NAME, FARE FROM titanic_csv ORDER BY FARE DESC\", con=db_connection)\n",
    "db_connection.dispose() \n",
    "df.head()"
   ]
  },
  {
   "cell_type": "code",
   "execution_count": null,
   "id": "1bfa33de",
   "metadata": {},
   "outputs": [],
   "source": [
    "db_connection = create_engine(db_connection_str)\n",
    "df = pd.read_sql(\"SELECT NAME, FARE FROM titanic_csv ORDER BY FARE DESC, Age\", con=db_connection)\n",
    "db_connection.dispose() \n",
    "df.head()"
   ]
  },
  {
   "cell_type": "markdown",
   "id": "5898689c",
   "metadata": {},
   "source": [
    "### AGGREGATE\n",
    "\n",
    "* COUNT\n",
    "* AVG\n",
    "* SUM\n",
    "* MAX\n",
    "* MIN"
   ]
  },
  {
   "cell_type": "code",
   "execution_count": null,
   "id": "e05e4c5e",
   "metadata": {},
   "outputs": [],
   "source": [
    "db_connection = create_engine(db_connection_str)\n",
    "df = pd.read_sql(\"\"\"\n",
    "SELECT COUNT(NAME) as 'Passenger Count', \n",
    "AVG(AGE) as 'Average Age',\n",
    "MIN(AGE) as 'Minimum Age',\n",
    "MAX(AGE) as 'Maximum Age',\n",
    "SUM(Fare) as 'Total Fare'\n",
    "FROM titanic_csv \n",
    "\"\"\", con=db_connection)\n",
    "db_connection.dispose() \n",
    "df.head()"
   ]
  },
  {
   "cell_type": "markdown",
   "id": "203ba8fe",
   "metadata": {},
   "source": [
    "### GROUP BY"
   ]
  },
  {
   "cell_type": "code",
   "execution_count": null,
   "id": "227cb68e",
   "metadata": {},
   "outputs": [],
   "source": [
    "db_connection = create_engine(db_connection_str)\n",
    "df = pd.read_sql(\"\"\"\n",
    "SELECT COUNT(SEX) AS 'Gender Count'\n",
    "FROM titanic_csv \n",
    "GROUP BY SEX\n",
    "\"\"\", con=db_connection)\n",
    "db_connection.dispose() \n",
    "df.head()"
   ]
  },
  {
   "cell_type": "markdown",
   "id": "90b8a65b",
   "metadata": {},
   "source": [
    "### HAVING"
   ]
  },
  {
   "cell_type": "code",
   "execution_count": null,
   "id": "b33c10fe",
   "metadata": {},
   "outputs": [],
   "source": [
    "db_connection = create_engine(db_connection_str)\n",
    "df = pd.read_sql(\"\"\"\n",
    "SELECT AVG(Fare) AS 'Gender Count'\n",
    "FROM titanic_csv \n",
    "GROUP BY Embarked\n",
    "HAVING AVG(Fare) > 30\n",
    "\"\"\", con=db_connection)\n",
    "db_connection.dispose() \n",
    "df.head()"
   ]
  },
  {
   "cell_type": "markdown",
   "id": "37db9ccc",
   "metadata": {},
   "source": [
    "### Question: Get all count of passengers with fare greater than 50"
   ]
  },
  {
   "cell_type": "markdown",
   "id": "429f9e29",
   "metadata": {},
   "source": [
    "### Question: Get Average fare of passenger group by age with minimum average of 10"
   ]
  }
 ],
 "metadata": {
  "kernelspec": {
   "display_name": "Python 3 (ipykernel)",
   "language": "python",
   "name": "python3"
  },
  "language_info": {
   "codemirror_mode": {
    "name": "ipython",
    "version": 3
   },
   "file_extension": ".py",
   "mimetype": "text/x-python",
   "name": "python",
   "nbconvert_exporter": "python",
   "pygments_lexer": "ipython3",
   "version": "3.9.12"
  }
 },
 "nbformat": 4,
 "nbformat_minor": 5
}
